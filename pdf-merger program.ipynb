{
 "cells": [
  {
   "cell_type": "code",
   "execution_count": 1,
   "id": "73d7340c",
   "metadata": {
    "scrolled": true
   },
   "outputs": [
    {
     "ename": "ModuleNotFoundError",
     "evalue": "No module named 'PyPdf2'",
     "output_type": "error",
     "traceback": [
      "\u001b[0;31m---------------------------------------------------------------------------\u001b[0m",
      "\u001b[0;31mModuleNotFoundError\u001b[0m                       Traceback (most recent call last)",
      "Input \u001b[0;32mIn [1]\u001b[0m, in \u001b[0;36m<cell line: 2>\u001b[0;34m()\u001b[0m\n\u001b[1;32m      1\u001b[0m \u001b[38;5;28;01mimport\u001b[39;00m \u001b[38;5;21;01mos\u001b[39;00m\n\u001b[0;32m----> 2\u001b[0m \u001b[38;5;28;01mfrom\u001b[39;00m \u001b[38;5;21;01mPyPdf2\u001b[39;00m \u001b[38;5;28;01mimport\u001b[39;00m PdfMerger\n\u001b[1;32m      3\u001b[0m os\u001b[38;5;241m.\u001b[39mchdir(\u001b[38;5;124m'\u001b[39m\u001b[38;5;124m/Users/khashayarzare/Downloads/\u001b[39m\u001b[38;5;124m'\u001b[39m)\n",
      "\u001b[0;31mModuleNotFoundError\u001b[0m: No module named 'PyPdf2'"
     ]
    }
   ],
   "source": [
    "import os\n",
    "from PyPdf2 import PdfMerger\n",
    "os.chdir('/Users/khashayarzare/Downloads/')"
   ]
  },
  {
   "cell_type": "code",
   "execution_count": 2,
   "id": "5e529ca8",
   "metadata": {},
   "outputs": [],
   "source": [
    "import os\n",
    "from PyPDF2 import PdfMerger\n",
    "os.chdir('/Users/khashayarzare/Downloads/')"
   ]
  },
  {
   "cell_type": "code",
   "execution_count": 3,
   "id": "9a016ae2",
   "metadata": {},
   "outputs": [],
   "source": [
    "pdfs=['20220628233823836.pdf', 'APPLICATION FOR RENTAL-Khashi(1).pdf']"
   ]
  },
  {
   "cell_type": "code",
   "execution_count": 4,
   "id": "c1ec51e0",
   "metadata": {},
   "outputs": [],
   "source": [
    "merger = PdfMerger()"
   ]
  },
  {
   "cell_type": "code",
   "execution_count": 5,
   "id": "7506604b",
   "metadata": {},
   "outputs": [],
   "source": [
    "for pdf in pdfs:\n",
    "    merger.append(pdf)\n",
    "\n",
    "merger.write('result.pdf')\n",
    "merger.close()"
   ]
  },
  {
   "cell_type": "code",
   "execution_count": null,
   "id": "45e519eb",
   "metadata": {},
   "outputs": [],
   "source": []
  }
 ],
 "metadata": {
  "kernelspec": {
   "display_name": "Python 3 (ipykernel)",
   "language": "python",
   "name": "python3"
  },
  "language_info": {
   "codemirror_mode": {
    "name": "ipython",
    "version": 3
   },
   "file_extension": ".py",
   "mimetype": "text/x-python",
   "name": "python",
   "nbconvert_exporter": "python",
   "pygments_lexer": "ipython3",
   "version": "3.9.12"
  }
 },
 "nbformat": 4,
 "nbformat_minor": 5
}
