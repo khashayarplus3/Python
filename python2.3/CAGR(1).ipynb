{
 "cells": [
  {
   "cell_type": "code",
   "execution_count": 2,
   "id": "0e826a4a-4d16-4ae6-bce9-7a28c2195aca",
   "metadata": {},
   "outputs": [
    {
     "name": "stdout",
     "output_type": "stream",
     "text": [
      "0.10000000000000009\n"
     ]
    },
    {
     "ename": "ValueError",
     "evalue": "could not convert string to float: ''",
     "output_type": "error",
     "traceback": [
      "\u001b[0;31m---------------------------------------------------------------------------\u001b[0m",
      "\u001b[0;31mValueError\u001b[0m                                Traceback (most recent call last)",
      "\u001b[1;32m/Users/khashayarzare/Desktop/Carleton University/bootcamp/python III/CAGR(1).ipynb Cell 1\u001b[0m in \u001b[0;36m<cell line: 9>\u001b[0;34m()\u001b[0m\n\u001b[1;32m      <a href='vscode-notebook-cell:/Users/khashayarzare/Desktop/Carleton%20University/bootcamp/python%20III/CAGR%281%29.ipynb#W0sZmlsZQ%3D%3D?line=5'>6</a>\u001b[0m     \u001b[39mprint\u001b[39m(CAGR)\n\u001b[1;32m      <a href='vscode-notebook-cell:/Users/khashayarzare/Desktop/Carleton%20University/bootcamp/python%20III/CAGR%281%29.ipynb#W0sZmlsZQ%3D%3D?line=7'>8</a>\u001b[0m calculate_compound_growth_rate(\u001b[39m1\u001b[39m, \u001b[39m2\u001b[39m, \u001b[39m3\u001b[39m)\n\u001b[0;32m----> <a href='vscode-notebook-cell:/Users/khashayarzare/Desktop/Carleton%20University/bootcamp/python%20III/CAGR%281%29.ipynb#W0sZmlsZQ%3D%3D?line=8'>9</a>\u001b[0m calculate_compound_growth_rate(\u001b[39m10\u001b[39;49m, \u001b[39m100\u001b[39;49m, \u001b[39m200\u001b[39;49m)\n",
      "\u001b[1;32m/Users/khashayarzare/Desktop/Carleton University/bootcamp/python III/CAGR(1).ipynb Cell 1\u001b[0m in \u001b[0;36mcalculate_compound_growth_rate\u001b[0;34m(n, BB, EB)\u001b[0m\n\u001b[1;32m      <a href='vscode-notebook-cell:/Users/khashayarzare/Desktop/Carleton%20University/bootcamp/python%20III/CAGR%281%29.ipynb#W0sZmlsZQ%3D%3D?line=0'>1</a>\u001b[0m \u001b[39mdef\u001b[39;00m \u001b[39mcalculate_compound_growth_rate\u001b[39m(n, BB , EB):\n\u001b[0;32m----> <a href='vscode-notebook-cell:/Users/khashayarzare/Desktop/Carleton%20University/bootcamp/python%20III/CAGR%281%29.ipynb#W0sZmlsZQ%3D%3D?line=1'>2</a>\u001b[0m     n\u001b[39m=\u001b[39m \u001b[39mfloat\u001b[39;49m(\u001b[39minput\u001b[39;49m(\u001b[39m\"\u001b[39;49m\u001b[39mplease enter number of years invested:\u001b[39;49m\u001b[39m\"\u001b[39;49m))\n\u001b[1;32m      <a href='vscode-notebook-cell:/Users/khashayarzare/Desktop/Carleton%20University/bootcamp/python%20III/CAGR%281%29.ipynb#W0sZmlsZQ%3D%3D?line=2'>3</a>\u001b[0m     BB\u001b[39m=\u001b[39m \u001b[39mfloat\u001b[39m(\u001b[39minput\u001b[39m(\u001b[39m\"\u001b[39m\u001b[39mplease enter the intial amount invested:\u001b[39m\u001b[39m\"\u001b[39m))\n\u001b[1;32m      <a href='vscode-notebook-cell:/Users/khashayarzare/Desktop/Carleton%20University/bootcamp/python%20III/CAGR%281%29.ipynb#W0sZmlsZQ%3D%3D?line=3'>4</a>\u001b[0m     EB\u001b[39m=\u001b[39m \u001b[39mfloat\u001b[39m(\u001b[39minput\u001b[39m(\u001b[39m'\u001b[39m\u001b[39mplease enter the ending current balance:\u001b[39m\u001b[39m'\u001b[39m))\n",
      "\u001b[0;31mValueError\u001b[0m: could not convert string to float: ''"
     ]
    }
   ],
   "source": [
    "def calculate_compound_growth_rate(n, BB , EB):\n",
    "    n= float(input(\"please enter number of years invested:\"))\n",
    "    BB= float(input(\"please enter the intial amount invested:\"))\n",
    "    EB= float(input('please enter the ending current balance:'))\n",
    "    CAGR= float(((EB/BB)** (1/n)) -1)\n",
    "    print(CAGR)\n",
    "\n",
    "calculate_compound_growth_rate(1, 2, 3)\n",
    "calculate_compound_growth_rate(10, 100, 200)"
   ]
  },
  {
   "cell_type": "code",
   "execution_count": null,
   "id": "1e7297c0",
   "metadata": {},
   "outputs": [],
   "source": []
  },
  {
   "cell_type": "code",
   "execution_count": 2,
   "id": "79e2bc91-587a-45d1-95b8-af6481bb4649",
   "metadata": {},
   "outputs": [
    {
     "ename": "NameError",
     "evalue": "name 'calculate_compound_growth_rate' is not defined",
     "output_type": "error",
     "traceback": [
      "\u001b[0;31m---------------------------------------------------------------------------\u001b[0m",
      "\u001b[0;31mNameError\u001b[0m                                 Traceback (most recent call last)",
      "\u001b[1;32m/Users/khashayarzare/Desktop/Carleton University/bootcamp/python III/CAGR(1).ipynb Cell 2\u001b[0m in \u001b[0;36m<cell line: 1>\u001b[0;34m()\u001b[0m\n\u001b[0;32m----> <a href='vscode-notebook-cell:/Users/khashayarzare/Desktop/Carleton%20University/bootcamp/python%20III/CAGR%281%29.ipynb#W1sZmlsZQ%3D%3D?line=0'>1</a>\u001b[0m calculate_compound_growth_rate(\u001b[39m10\u001b[39m, \u001b[39m100\u001b[39m, \u001b[39m200\u001b[39m)\n",
      "\u001b[0;31mNameError\u001b[0m: name 'calculate_compound_growth_rate' is not defined"
     ]
    }
   ],
   "source": [
    "calculate_compound_growth_rate(10, 100, 200)"
   ]
  },
  {
   "cell_type": "code",
   "execution_count": null,
   "id": "df5d404b-8d5f-45fc-9c0d-d89ac32aa99a",
   "metadata": {},
   "outputs": [],
   "source": []
  },
  {
   "cell_type": "code",
   "execution_count": 14,
   "id": "7c6836d2-70ec-4983-8d8c-4bcd53d57f60",
   "metadata": {},
   "outputs": [],
   "source": [
    "def calculate_compound_growth_rate(n, BB , EB):\n",
    "    CAGR= float(((EB /BB)** (1/n)) -1)\n",
    "    print(\"growth rate = \",  CAGR) \n",
    "    print(CAGR)"
   ]
  },
  {
   "cell_type": "code",
   "execution_count": null,
   "id": "34d2e0a9-be34-4dc2-8f45-c3899f942b3a",
   "metadata": {},
   "outputs": [],
   "source": []
  },
  {
   "cell_type": "code",
   "execution_count": 9,
   "id": "f938dc30-45d9-4490-9065-e0390882ae5a",
   "metadata": {},
   "outputs": [
    {
     "name": "stdout",
     "output_type": "stream",
     "text": [
      "growth rate =  1.9998205217854537\n"
     ]
    }
   ],
   "source": [
    "calculate_compound_growth_rate(10, 15000 , 20000)"
   ]
  },
  {
   "cell_type": "code",
   "execution_count": 11,
   "id": "76d1b4cc-13b5-49f7-a03c-aca8f30a0e2a",
   "metadata": {},
   "outputs": [
    {
     "name": "stdout",
     "output_type": "stream",
     "text": [
      "growth rate =  1.9998205217854537\n",
      "-0.9998205217854536\n"
     ]
    }
   ],
   "source": [
    " calculate_compound_growth_rate(10, 15000 , 20000)"
   ]
  },
  {
   "cell_type": "code",
   "execution_count": 13,
   "id": "841320ad-0bf7-470d-8b65-132d6cd8152c",
   "metadata": {},
   "outputs": [
    {
     "name": "stdout",
     "output_type": "stream",
     "text": [
      "growth rate =  1.9997307826781803\n",
      "-0.9997307826781803\n"
     ]
    }
   ],
   "source": [
    "calculate_compound_growth_rate(10, 10000 , 20000)"
   ]
  },
  {
   "cell_type": "code",
   "execution_count": null,
   "id": "32fd29f9-c601-4410-9b53-f101349f1e09",
   "metadata": {},
   "outputs": [],
   "source": []
  },
  {
   "cell_type": "code",
   "execution_count": 15,
   "id": "ec30b3e2-6f4b-4ef8-ba53-fec3e1e071cf",
   "metadata": {},
   "outputs": [],
   "source": [
    "def calculate_compound_growth_rate(n, BB , EB):\n",
    "    CAGR= float(((EB /BB)** (1/n)) -1)\n",
    "    print(\"growth rate = \",  CAGR) \n",
    "    print(CAGR)"
   ]
  },
  {
   "cell_type": "code",
   "execution_count": 16,
   "id": "af72c98b-82f4-41e4-a4b8-81aca636442c",
   "metadata": {},
   "outputs": [
    {
     "name": "stdout",
     "output_type": "stream",
     "text": [
      "growth rate =  0.07177346253629313\n",
      "0.07177346253629313\n"
     ]
    }
   ],
   "source": [
    "calculate_compound_growth_rate(10, 10000, 20000)"
   ]
  },
  {
   "cell_type": "code",
   "execution_count": null,
   "id": "7bcf54c6-ec89-4ead-a6e1-c36312580b1c",
   "metadata": {},
   "outputs": [],
   "source": []
  }
 ],
 "metadata": {
  "kernelspec": {
   "display_name": "Python 3",
   "language": "python",
   "name": "python3"
  },
  "language_info": {
   "codemirror_mode": {
    "name": "ipython",
    "version": 3
   },
   "file_extension": ".py",
   "mimetype": "text/x-python",
   "name": "python",
   "nbconvert_exporter": "python",
   "pygments_lexer": "ipython3",
   "version": "3.10.4"
  },
  "vscode": {
   "interpreter": {
    "hash": "aee8b7b246df8f9039afb4144a1f6fd8d2ca17a180786b69acc140d282b71a49"
   }
  }
 },
 "nbformat": 4,
 "nbformat_minor": 5
}
