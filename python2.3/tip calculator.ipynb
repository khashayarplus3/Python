{
 "cells": [
  {
   "cell_type": "code",
   "execution_count": 1,
   "id": "4604bc95-5d0e-4eb0-9ada-c69c5d93540f",
   "metadata": {},
   "outputs": [],
   "source": []
  },
  {
   "cell_type": "code",
   "execution_count": null,
   "id": "4f7b8cc5-67b0-4984-bcb6-1d8eb3799630",
   "metadata": {},
   "outputs": [],
   "source": []
  },
  {
   "cell_type": "code",
   "execution_count": 5,
   "id": "f1c676b0-0d4f-4459-a50b-1cbbe0519c28",
   "metadata": {},
   "outputs": [
    {
     "name": "stdout",
     "output_type": "stream",
     "text": [
      "Daily average: 39.57\n"
     ]
    }
   ],
   "source": [
    "cash_items= [22, 10, 30,45,54,60,56]\n",
    "count= 0\n",
    "for tip in cash_items:\n",
    "    total += tip\n",
    "    count += 1\n",
    "average= round(total/ count, 2)\n",
    "\n",
    "print(f\"Daily average: {average}\")"
   ]
  },
  {
   "cell_type": "code",
   "execution_count": null,
   "id": "406796fe",
   "metadata": {},
   "outputs": [],
   "source": []
  },
  {
   "cell_type": "code",
   "execution_count": 4,
   "id": "f1512c03-5657-412f-a010-c5928113934f",
   "metadata": {},
   "outputs": [],
   "source": [
    "cash_items= [22, 10, 30,45,54,60,56]"
   ]
  },
  {
   "cell_type": "code",
   "execution_count": null,
   "id": "ca73e111-038c-44e0-b41a-b5ae279b3424",
   "metadata": {},
   "outputs": [],
   "source": []
  },
  {
   "cell_type": "code",
   "execution_count": 6,
   "id": "c7c71093-1314-44a9-9dd7-43c5bd8d10c8",
   "metadata": {},
   "outputs": [
    {
     "name": "stdout",
     "output_type": "stream",
     "text": [
      "Daily average: 39.57\n"
     ]
    }
   ],
   "source": [
    "count= 0\n",
    "for tip in cash_items:\n",
    "    total += tip\n",
    "    count += 1\n",
    "average= round(total/ count, 2)\n",
    "\n",
    "print(f\"Daily average: {average}\")"
   ]
  },
  {
   "cell_type": "code",
   "execution_count": null,
   "id": "2aa904fb-7927-4b71-9ab4-d7eb9afc667d",
   "metadata": {},
   "outputs": [],
   "source": []
  }
 ],
 "metadata": {
  "kernelspec": {
   "display_name": "Python 3",
   "language": "python",
   "name": "python3"
  },
  "language_info": {
   "codemirror_mode": {
    "name": "ipython",
    "version": 3
   },
   "file_extension": ".py",
   "mimetype": "text/x-python",
   "name": "python",
   "nbconvert_exporter": "python",
   "pygments_lexer": "ipython3",
   "version": "3.10.4"
  },
  "vscode": {
   "interpreter": {
    "hash": "aee8b7b246df8f9039afb4144a1f6fd8d2ca17a180786b69acc140d282b71a49"
   }
  }
 },
 "nbformat": 4,
 "nbformat_minor": 5
}
