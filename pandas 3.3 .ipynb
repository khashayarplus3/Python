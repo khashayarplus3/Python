{
 "cells": [
  {
   "cell_type": "code",
   "execution_count": 1,
   "id": "93a7859b",
   "metadata": {},
   "outputs": [
    {
     "data": {
      "text/plain": [
       "'Notes: \\nSorting: sort values using -- df.sort_values( \"column\", ascending(or any other qualifier)= False)\\nsort_index(\\'\\') --- sorts the index \\n\\n\\n\\n\\n\\n\\n'"
      ]
     },
     "execution_count": 1,
     "metadata": {},
     "output_type": "execute_result"
    }
   ],
   "source": [
    "'''Notes: \n",
    "Sorting: sort values using -- df.sort_values( \"column\", ascending(or any other qualifier)= False)\n",
    "sort_index('') --- sorts the index \n",
    "\n",
    "sort multiple columns = df.sortvalues([\"price\", \"volume\"] axis = 0 )\n",
    "\n",
    "\n",
    "Grouping: --use groupby()\n",
    "its like autosum\n",
    "\n",
    "\n",
    "'''"
   ]
  },
  {
   "cell_type": "code",
   "execution_count": 3,
   "id": "5a1c9618",
   "metadata": {},
   "outputs": [],
   "source": [
    "import pandas as pd \n",
    "from pathlib import Path"
   ]
  },
  {
   "cell_type": "code",
   "execution_count": 4,
   "id": "05118046",
   "metadata": {},
   "outputs": [],
   "source": [
    "csvpath = Path(\"/Users/khashayarzare/Desktop/Carleton University/bootcamp/python 3.3/02-Stu_Sorting/Resources/bb_stock_data.csv\")"
   ]
  },
  {
   "cell_type": "code",
   "execution_count": 5,
   "id": "d6e927b6",
   "metadata": {},
   "outputs": [],
   "source": [
    "bb_csv= pd.read_csv(csvpath)"
   ]
  },
  {
   "cell_type": "code",
   "execution_count": 6,
   "id": "b6e036c2",
   "metadata": {},
   "outputs": [
    {
     "data": {
      "text/html": [
       "<div>\n",
       "<style scoped>\n",
       "    .dataframe tbody tr th:only-of-type {\n",
       "        vertical-align: middle;\n",
       "    }\n",
       "\n",
       "    .dataframe tbody tr th {\n",
       "        vertical-align: top;\n",
       "    }\n",
       "\n",
       "    .dataframe thead th {\n",
       "        text-align: right;\n",
       "    }\n",
       "</style>\n",
       "<table border=\"1\" class=\"dataframe\">\n",
       "  <thead>\n",
       "    <tr style=\"text-align: right;\">\n",
       "      <th></th>\n",
       "      <th>Date</th>\n",
       "      <th>Close</th>\n",
       "    </tr>\n",
       "  </thead>\n",
       "  <tbody>\n",
       "    <tr>\n",
       "      <th>0</th>\n",
       "      <td>1/2/19</td>\n",
       "      <td>9.64</td>\n",
       "    </tr>\n",
       "    <tr>\n",
       "      <th>1</th>\n",
       "      <td>1/3/19</td>\n",
       "      <td>9.29</td>\n",
       "    </tr>\n",
       "    <tr>\n",
       "      <th>2</th>\n",
       "      <td>1/4/19</td>\n",
       "      <td>9.67</td>\n",
       "    </tr>\n",
       "    <tr>\n",
       "      <th>3</th>\n",
       "      <td>1/7/19</td>\n",
       "      <td>9.88</td>\n",
       "    </tr>\n",
       "    <tr>\n",
       "      <th>4</th>\n",
       "      <td>1/8/19</td>\n",
       "      <td>9.82</td>\n",
       "    </tr>\n",
       "  </tbody>\n",
       "</table>\n",
       "</div>"
      ],
      "text/plain": [
       "     Date  Close\n",
       "0  1/2/19   9.64\n",
       "1  1/3/19   9.29\n",
       "2  1/4/19   9.67\n",
       "3  1/7/19   9.88\n",
       "4  1/8/19   9.82"
      ]
     },
     "execution_count": 6,
     "metadata": {},
     "output_type": "execute_result"
    }
   ],
   "source": [
    "bb_csv.head()"
   ]
  },
  {
   "cell_type": "code",
   "execution_count": 8,
   "id": "d0644459",
   "metadata": {},
   "outputs": [],
   "source": [
    "bb_csv = bb_csv.set_index(\"Date\")"
   ]
  },
  {
   "cell_type": "code",
   "execution_count": 9,
   "id": "e57db581",
   "metadata": {},
   "outputs": [],
   "source": [
    "daily_return= (bb_csv- bb_csv.shift(1))/ bb_csv"
   ]
  },
  {
   "cell_type": "code",
   "execution_count": 24,
   "id": "5f67e853",
   "metadata": {},
   "outputs": [
    {
     "data": {
      "text/html": [
       "<div>\n",
       "<style scoped>\n",
       "    .dataframe tbody tr th:only-of-type {\n",
       "        vertical-align: middle;\n",
       "    }\n",
       "\n",
       "    .dataframe tbody tr th {\n",
       "        vertical-align: top;\n",
       "    }\n",
       "\n",
       "    .dataframe thead th {\n",
       "        text-align: right;\n",
       "    }\n",
       "</style>\n",
       "<table border=\"1\" class=\"dataframe\">\n",
       "  <thead>\n",
       "    <tr style=\"text-align: right;\">\n",
       "      <th></th>\n",
       "      <th>Close</th>\n",
       "    </tr>\n",
       "    <tr>\n",
       "      <th>Date</th>\n",
       "      <th></th>\n",
       "    </tr>\n",
       "  </thead>\n",
       "  <tbody>\n",
       "    <tr>\n",
       "      <th>1/2/19</th>\n",
       "      <td>NaN</td>\n",
       "    </tr>\n",
       "    <tr>\n",
       "      <th>1/3/19</th>\n",
       "      <td>NaN</td>\n",
       "    </tr>\n",
       "    <tr>\n",
       "      <th>1/4/19</th>\n",
       "      <td>-2.043049</td>\n",
       "    </tr>\n",
       "    <tr>\n",
       "      <th>1/7/19</th>\n",
       "      <td>-0.459115</td>\n",
       "    </tr>\n",
       "    <tr>\n",
       "      <th>1/8/19</th>\n",
       "      <td>-1.287460</td>\n",
       "    </tr>\n",
       "  </tbody>\n",
       "</table>\n",
       "</div>"
      ],
      "text/plain": [
       "           Close\n",
       "Date            \n",
       "1/2/19       NaN\n",
       "1/3/19       NaN\n",
       "1/4/19 -2.043049\n",
       "1/7/19 -0.459115\n",
       "1/8/19 -1.287460"
      ]
     },
     "execution_count": 24,
     "metadata": {},
     "output_type": "execute_result"
    }
   ],
   "source": [
    "daily_return= daily_return.pct_change()\n",
    "daily_return.head()\n"
   ]
  },
  {
   "cell_type": "code",
   "execution_count": 25,
   "id": "1a1657a4",
   "metadata": {},
   "outputs": [],
   "source": [
    "bb_csv= bb_csv.sort_values(by= [\"Close\"], ascending=False)"
   ]
  },
  {
   "cell_type": "code",
   "execution_count": null,
   "id": "dc6629cf",
   "metadata": {},
   "outputs": [],
   "source": []
  },
  {
   "cell_type": "code",
   "execution_count": 22,
   "id": "c40ed177",
   "metadata": {},
   "outputs": [
    {
     "data": {
      "text/html": [
       "<div>\n",
       "<style scoped>\n",
       "    .dataframe tbody tr th:only-of-type {\n",
       "        vertical-align: middle;\n",
       "    }\n",
       "\n",
       "    .dataframe tbody tr th {\n",
       "        vertical-align: top;\n",
       "    }\n",
       "\n",
       "    .dataframe thead th {\n",
       "        text-align: right;\n",
       "    }\n",
       "</style>\n",
       "<table border=\"1\" class=\"dataframe\">\n",
       "  <thead>\n",
       "    <tr style=\"text-align: right;\">\n",
       "      <th></th>\n",
       "      <th>Close</th>\n",
       "    </tr>\n",
       "    <tr>\n",
       "      <th>Date</th>\n",
       "      <th></th>\n",
       "    </tr>\n",
       "  </thead>\n",
       "  <tbody>\n",
       "    <tr>\n",
       "      <th>4/2/19</th>\n",
       "      <td>12.81</td>\n",
       "    </tr>\n",
       "    <tr>\n",
       "      <th>4/3/19</th>\n",
       "      <td>12.76</td>\n",
       "    </tr>\n",
       "    <tr>\n",
       "      <th>4/1/19</th>\n",
       "      <td>12.75</td>\n",
       "    </tr>\n",
       "    <tr>\n",
       "      <th>3/15/19</th>\n",
       "      <td>12.63</td>\n",
       "    </tr>\n",
       "  </tbody>\n",
       "</table>\n",
       "</div>"
      ],
      "text/plain": [
       "         Close\n",
       "Date          \n",
       "4/2/19   12.81\n",
       "4/3/19   12.76\n",
       "4/1/19   12.75\n",
       "3/15/19  12.63"
      ]
     },
     "execution_count": 22,
     "metadata": {},
     "output_type": "execute_result"
    }
   ],
   "source": [
    "big5= bb_csv.iloc[1:5]\n",
    "big5.head()"
   ]
  },
  {
   "cell_type": "code",
   "execution_count": 72,
   "id": "423ede93",
   "metadata": {},
   "outputs": [],
   "source": [
    "csvpath1= Path(\"/Users/khashayarzare/Desktop/Carleton University/bootcamp/python 3.3/03-Ins_Groupby/Resources/crypto_data.csv\")"
   ]
  },
  {
   "cell_type": "code",
   "execution_count": 73,
   "id": "bf93e43f",
   "metadata": {},
   "outputs": [],
   "source": [
    "cry_csv1=pd.read_csv(csvpath1)"
   ]
  },
  {
   "cell_type": "code",
   "execution_count": 74,
   "id": "9d506afa",
   "metadata": {},
   "outputs": [
    {
     "data": {
      "text/html": [
       "<div>\n",
       "<style scoped>\n",
       "    .dataframe tbody tr th:only-of-type {\n",
       "        vertical-align: middle;\n",
       "    }\n",
       "\n",
       "    .dataframe tbody tr th {\n",
       "        vertical-align: top;\n",
       "    }\n",
       "\n",
       "    .dataframe thead th {\n",
       "        text-align: right;\n",
       "    }\n",
       "</style>\n",
       "<table border=\"1\" class=\"dataframe\">\n",
       "  <thead>\n",
       "    <tr style=\"text-align: right;\">\n",
       "      <th></th>\n",
       "      <th>cryptocurrency</th>\n",
       "      <th>data_price</th>\n",
       "      <th>data_date</th>\n",
       "      <th>data_time</th>\n",
       "      <th>timestamp</th>\n",
       "    </tr>\n",
       "  </thead>\n",
       "  <tbody>\n",
       "    <tr>\n",
       "      <th>0</th>\n",
       "      <td>bitcoin</td>\n",
       "      <td>NaN</td>\n",
       "      <td>5/9/17</td>\n",
       "      <td>1.494290e+12</td>\n",
       "      <td>1.557290e+12</td>\n",
       "    </tr>\n",
       "    <tr>\n",
       "      <th>1</th>\n",
       "      <td>bitcoin</td>\n",
       "      <td>1743.723523</td>\n",
       "      <td>5/10/17</td>\n",
       "      <td>1.494370e+12</td>\n",
       "      <td>NaN</td>\n",
       "    </tr>\n",
       "    <tr>\n",
       "      <th>2</th>\n",
       "      <td>bitcoin</td>\n",
       "      <td>1828.678209</td>\n",
       "      <td>5/11/17</td>\n",
       "      <td>1.494460e+12</td>\n",
       "      <td>NaN</td>\n",
       "    </tr>\n",
       "    <tr>\n",
       "      <th>3</th>\n",
       "      <td>bitcoin</td>\n",
       "      <td>1776.443919</td>\n",
       "      <td>5/12/17</td>\n",
       "      <td>1.494550e+12</td>\n",
       "      <td>NaN</td>\n",
       "    </tr>\n",
       "    <tr>\n",
       "      <th>4</th>\n",
       "      <td>bitcoin</td>\n",
       "      <td>1714.964198</td>\n",
       "      <td>5/13/17</td>\n",
       "      <td>1.494630e+12</td>\n",
       "      <td>NaN</td>\n",
       "    </tr>\n",
       "  </tbody>\n",
       "</table>\n",
       "</div>"
      ],
      "text/plain": [
       "  cryptocurrency   data_price data_date     data_time     timestamp\n",
       "0        bitcoin          NaN    5/9/17  1.494290e+12  1.557290e+12\n",
       "1        bitcoin  1743.723523   5/10/17  1.494370e+12           NaN\n",
       "2        bitcoin  1828.678209   5/11/17  1.494460e+12           NaN\n",
       "3        bitcoin  1776.443919   5/12/17  1.494550e+12           NaN\n",
       "4        bitcoin  1714.964198   5/13/17  1.494630e+12           NaN"
      ]
     },
     "execution_count": 74,
     "metadata": {},
     "output_type": "execute_result"
    }
   ],
   "source": [
    "cry_csv1.head()"
   ]
  },
  {
   "cell_type": "code",
   "execution_count": 75,
   "id": "64990cb1",
   "metadata": {},
   "outputs": [],
   "source": [
    "cry_csv1= cry_csv1.drop(columns= [\"data_time\", \"timestamp\"])"
   ]
  },
  {
   "cell_type": "code",
   "execution_count": 76,
   "id": "f2cc09a2",
   "metadata": {},
   "outputs": [],
   "source": [
    "cry_csv1= cry_csv1.set_index([\"data_date\"])"
   ]
  },
  {
   "cell_type": "code",
   "execution_count": 77,
   "id": "66fc3e16",
   "metadata": {},
   "outputs": [],
   "source": [
    "cry_csv1= cry_csv1.sort_index()"
   ]
  },
  {
   "cell_type": "code",
   "execution_count": 78,
   "id": "9e7a3de5",
   "metadata": {},
   "outputs": [],
   "source": [
    "cry_csv1= cry_csv1.dropna()"
   ]
  },
  {
   "cell_type": "code",
   "execution_count": 79,
   "id": "a61467cc",
   "metadata": {},
   "outputs": [],
   "source": [
    "cry_grp= cry_csv1.groupby(\"cryptocurrency\")"
   ]
  },
  {
   "cell_type": "code",
   "execution_count": 80,
   "id": "4d44831f",
   "metadata": {},
   "outputs": [
    {
     "data": {
      "text/plain": [
       "<pandas.core.groupby.generic.DataFrameGroupBy object at 0x7fc680072910>"
      ]
     },
     "execution_count": 80,
     "metadata": {},
     "output_type": "execute_result"
    }
   ],
   "source": [
    "cry_grp"
   ]
  },
  {
   "cell_type": "code",
   "execution_count": 81,
   "id": "0540ab3c",
   "metadata": {},
   "outputs": [
    {
     "data": {
      "text/html": [
       "<div>\n",
       "<style scoped>\n",
       "    .dataframe tbody tr th:only-of-type {\n",
       "        vertical-align: middle;\n",
       "    }\n",
       "\n",
       "    .dataframe tbody tr th {\n",
       "        vertical-align: top;\n",
       "    }\n",
       "\n",
       "    .dataframe thead th {\n",
       "        text-align: right;\n",
       "    }\n",
       "</style>\n",
       "<table border=\"1\" class=\"dataframe\">\n",
       "  <thead>\n",
       "    <tr style=\"text-align: right;\">\n",
       "      <th></th>\n",
       "      <th>cryptocurrency</th>\n",
       "      <th>data_price</th>\n",
       "    </tr>\n",
       "    <tr>\n",
       "      <th>data_date</th>\n",
       "      <th></th>\n",
       "      <th></th>\n",
       "    </tr>\n",
       "  </thead>\n",
       "  <tbody>\n",
       "    <tr>\n",
       "      <th>1/1/18</th>\n",
       "      <td>ethereum</td>\n",
       "      <td>746.294369</td>\n",
       "    </tr>\n",
       "    <tr>\n",
       "      <th>1/1/18</th>\n",
       "      <td>bitcoin</td>\n",
       "      <td>13430.402680</td>\n",
       "    </tr>\n",
       "    <tr>\n",
       "      <th>1/1/18</th>\n",
       "      <td>litecoin</td>\n",
       "      <td>223.960491</td>\n",
       "    </tr>\n",
       "    <tr>\n",
       "      <th>1/1/18</th>\n",
       "      <td>ripple</td>\n",
       "      <td>1.921650</td>\n",
       "    </tr>\n",
       "    <tr>\n",
       "      <th>1/1/18</th>\n",
       "      <td>bitcoin-cash</td>\n",
       "      <td>2337.254495</td>\n",
       "    </tr>\n",
       "    <tr>\n",
       "      <th>1/1/19</th>\n",
       "      <td>ethereum</td>\n",
       "      <td>136.454445</td>\n",
       "    </tr>\n",
       "    <tr>\n",
       "      <th>1/1/19</th>\n",
       "      <td>litecoin</td>\n",
       "      <td>30.949385</td>\n",
       "    </tr>\n",
       "    <tr>\n",
       "      <th>1/1/19</th>\n",
       "      <td>bitcoin</td>\n",
       "      <td>3770.224396</td>\n",
       "    </tr>\n",
       "    <tr>\n",
       "      <th>1/1/19</th>\n",
       "      <td>bitcoin-cash</td>\n",
       "      <td>160.621333</td>\n",
       "    </tr>\n",
       "    <tr>\n",
       "      <th>1/1/19</th>\n",
       "      <td>ripple</td>\n",
       "      <td>0.357309</td>\n",
       "    </tr>\n",
       "    <tr>\n",
       "      <th>1/10/18</th>\n",
       "      <td>bitcoin-cash</td>\n",
       "      <td>2537.125498</td>\n",
       "    </tr>\n",
       "    <tr>\n",
       "      <th>1/10/18</th>\n",
       "      <td>bitcoin</td>\n",
       "      <td>14234.745240</td>\n",
       "    </tr>\n",
       "    <tr>\n",
       "      <th>1/10/18</th>\n",
       "      <td>ethereum</td>\n",
       "      <td>1312.390419</td>\n",
       "    </tr>\n",
       "    <tr>\n",
       "      <th>1/10/18</th>\n",
       "      <td>ripple</td>\n",
       "      <td>1.921740</td>\n",
       "    </tr>\n",
       "    <tr>\n",
       "      <th>1/10/18</th>\n",
       "      <td>litecoin</td>\n",
       "      <td>241.926277</td>\n",
       "    </tr>\n",
       "    <tr>\n",
       "      <th>1/10/19</th>\n",
       "      <td>litecoin</td>\n",
       "      <td>35.579160</td>\n",
       "    </tr>\n",
       "    <tr>\n",
       "      <th>1/10/19</th>\n",
       "      <td>bitcoin-cash</td>\n",
       "      <td>144.199967</td>\n",
       "    </tr>\n",
       "    <tr>\n",
       "      <th>1/10/19</th>\n",
       "      <td>ethereum</td>\n",
       "      <td>136.645917</td>\n",
       "    </tr>\n",
       "    <tr>\n",
       "      <th>1/10/19</th>\n",
       "      <td>bitcoin</td>\n",
       "      <td>3833.935804</td>\n",
       "    </tr>\n",
       "    <tr>\n",
       "      <th>1/10/19</th>\n",
       "      <td>ripple</td>\n",
       "      <td>0.351125</td>\n",
       "    </tr>\n",
       "    <tr>\n",
       "      <th>1/11/18</th>\n",
       "      <td>bitcoin</td>\n",
       "      <td>13805.605760</td>\n",
       "    </tr>\n",
       "    <tr>\n",
       "      <th>1/11/18</th>\n",
       "      <td>ripple</td>\n",
       "      <td>1.868782</td>\n",
       "    </tr>\n",
       "    <tr>\n",
       "      <th>1/11/18</th>\n",
       "      <td>ethereum</td>\n",
       "      <td>1218.209479</td>\n",
       "    </tr>\n",
       "    <tr>\n",
       "      <th>1/11/18</th>\n",
       "      <td>bitcoin-cash</td>\n",
       "      <td>2563.859697</td>\n",
       "    </tr>\n",
       "    <tr>\n",
       "      <th>1/11/18</th>\n",
       "      <td>litecoin</td>\n",
       "      <td>234.167843</td>\n",
       "    </tr>\n",
       "  </tbody>\n",
       "</table>\n",
       "</div>"
      ],
      "text/plain": [
       "          cryptocurrency    data_price\n",
       "data_date                             \n",
       "1/1/18          ethereum    746.294369\n",
       "1/1/18           bitcoin  13430.402680\n",
       "1/1/18          litecoin    223.960491\n",
       "1/1/18            ripple      1.921650\n",
       "1/1/18      bitcoin-cash   2337.254495\n",
       "1/1/19          ethereum    136.454445\n",
       "1/1/19          litecoin     30.949385\n",
       "1/1/19           bitcoin   3770.224396\n",
       "1/1/19      bitcoin-cash    160.621333\n",
       "1/1/19            ripple      0.357309\n",
       "1/10/18     bitcoin-cash   2537.125498\n",
       "1/10/18          bitcoin  14234.745240\n",
       "1/10/18         ethereum   1312.390419\n",
       "1/10/18           ripple      1.921740\n",
       "1/10/18         litecoin    241.926277\n",
       "1/10/19         litecoin     35.579160\n",
       "1/10/19     bitcoin-cash    144.199967\n",
       "1/10/19         ethereum    136.645917\n",
       "1/10/19          bitcoin   3833.935804\n",
       "1/10/19           ripple      0.351125\n",
       "1/11/18          bitcoin  13805.605760\n",
       "1/11/18           ripple      1.868782\n",
       "1/11/18         ethereum   1218.209479\n",
       "1/11/18     bitcoin-cash   2563.859697\n",
       "1/11/18         litecoin    234.167843"
      ]
     },
     "execution_count": 81,
     "metadata": {},
     "output_type": "execute_result"
    }
   ],
   "source": [
    "cry_grp.head()"
   ]
  },
  {
   "cell_type": "code",
   "execution_count": 82,
   "id": "676f25cd",
   "metadata": {},
   "outputs": [],
   "source": [
    "cry_grp1 = cry_csv.groupby(\"cryptocurrency\").mean()"
   ]
  },
  {
   "cell_type": "code",
   "execution_count": 84,
   "id": "b4ce26d6",
   "metadata": {},
   "outputs": [
    {
     "ename": "NameError",
     "evalue": "name 'crypto_group' is not defined",
     "output_type": "error",
     "traceback": [
      "\u001b[0;31m---------------------------------------------------------------------------\u001b[0m",
      "\u001b[0;31mNameError\u001b[0m                                 Traceback (most recent call last)",
      "Input \u001b[0;32mIn [84]\u001b[0m, in \u001b[0;36m<cell line: 1>\u001b[0;34m()\u001b[0m\n\u001b[0;32m----> 1\u001b[0m \u001b[43mcrypto_group\u001b[49m()\n\u001b[1;32m      2\u001b[0m rounded_grp\u001b[38;5;241m=\u001b[39m cry_csv()\n",
      "\u001b[0;31mNameError\u001b[0m: name 'crypto_group' is not defined"
     ]
    }
   ],
   "source": [
    "rounded_grp= cry_csv()\n"
   ]
  },
  {
   "cell_type": "code",
   "execution_count": null,
   "id": "42915447",
   "metadata": {},
   "outputs": [],
   "source": []
  },
  {
   "cell_type": "code",
   "execution_count": null,
   "id": "7b4b7f08",
   "metadata": {},
   "outputs": [],
   "source": []
  },
  {
   "cell_type": "code",
   "execution_count": null,
   "id": "ea39a43b",
   "metadata": {},
   "outputs": [],
   "source": []
  }
 ],
 "metadata": {
  "kernelspec": {
   "display_name": "Python 3 (ipykernel)",
   "language": "python",
   "name": "python3"
  },
  "language_info": {
   "codemirror_mode": {
    "name": "ipython",
    "version": 3
   },
   "file_extension": ".py",
   "mimetype": "text/x-python",
   "name": "python",
   "nbconvert_exporter": "python",
   "pygments_lexer": "ipython3",
   "version": "3.9.12"
  }
 },
 "nbformat": 4,
 "nbformat_minor": 5
}
