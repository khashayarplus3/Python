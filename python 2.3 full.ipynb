{
 "cells": [
  {
   "cell_type": "code",
   "execution_count": 25,
   "id": "02899118",
   "metadata": {},
   "outputs": [],
   "source": [
    "#go through a list of customers names and give them a customized greeting based on revenues\n",
    "customers =[ { \"first_name\": \"Tom\", \"last_name\": \"Bell\", \"revenue\": 0 },\n",
    "{ \"first_name\": \"Maggie\", \"last_name\": \"Johnson\", \"revenue\": 1032 },\n",
    "{ \"first_name\": \"John\", \"last_name\": \"Spectre\", \"revenue\": 2543 },\n",
    "{ \"first_name\": \"Susy\", \"last_name\": \"Simmons\", \"revenue\": 5322 } ]\n",
    "\n",
    "\n",
    "def create_greeting(first_name, last_name, revenue):\n",
    "    if revenue > 3000:\n",
    "        greeting= F\"Hi {first_name} {last_name} Thank you for your business of {revenue} you are a platinum member\"\n",
    "    elif (revenue>2000 and revenue<3001):\n",
    "        greeting= F\"Hi {first_name} {last_name} Thank you for your business of {revenue} you are a Gold member\"\n",
    "    elif (revenue>1000 and revenue<2001):\n",
    "        greeting= F\"Hi {first_name} {last_name} Thank you for your business of {revenue} you are a Silver member\"\n",
    "    else:\n",
    "        greeting= F\"Hi {first_name} {last_name} Thank you for your business of {revenue} you are a Silver member\"\n",
    "    return greeting"
   ]
  },
  {
   "cell_type": "code",
   "execution_count": 26,
   "id": "f8b7e0b5",
   "metadata": {},
   "outputs": [
    {
     "name": "stdout",
     "output_type": "stream",
     "text": [
      "Hi Tom Bell Thank you for your business of 0 you are a Silver member\n",
      "Hi Maggie Johnson Thank you for your business of 1032 you are a Silver member\n",
      "Hi John Spectre Thank you for your business of 2543 you are a Gold member\n",
      "Hi Susy Simmons Thank you for your business of 5322 you are a platinum member\n"
     ]
    }
   ],
   "source": [
    "for customer in customers:\n",
    "    greeting= create_greeting(customer[\"first_name\"], customer[\"last_name\"], customer[\"revenue\"])\n",
    "    print(greeting)"
   ]
  },
  {
   "cell_type": "code",
   "execution_count": 27,
   "id": "55361a29",
   "metadata": {},
   "outputs": [],
   "source": [
    "#calculate future value exercise\n",
    "def calculate_future_value(present_value, interest, compounding_period, years):\n",
    "    future_value= present_value* (1+(interest/compounding_period))**(years*compounding_period)\n",
    "    future_value_formatted= round(future_value,2)\n",
    "    return future_value_formatted"
   ]
  },
  {
   "cell_type": "code",
   "execution_count": 28,
   "id": "a954feac",
   "metadata": {},
   "outputs": [],
   "source": [
    "present_value=1000\n",
    "interest=.1\n",
    "compounding_period= 1\n",
    "years=3"
   ]
  },
  {
   "cell_type": "code",
   "execution_count": 29,
   "id": "8a2eec26",
   "metadata": {},
   "outputs": [
    {
     "name": "stdout",
     "output_type": "stream",
     "text": [
      "1331.0\n"
     ]
    }
   ],
   "source": [
    "future_value=calculate_future_value(present_value, interest, compounding_period, years)\n",
    "print(future_value)\n",
    "#end of exercise"
   ]
  },
  {
   "cell_type": "code",
   "execution_count": null,
   "id": "ba9a9a8a",
   "metadata": {},
   "outputs": [],
   "source": []
  },
  {
   "cell_type": "code",
   "execution_count": 69,
   "id": "d8bd3a3d",
   "metadata": {},
   "outputs": [],
   "source": [
    "#calculate the zero-coupon bond \n",
    "def calculate_present_value(future_value, discount_rate, compounding_periods, years):\n",
    "    present_value= future_value / ((1 + (discount_rate / compounding_periods)) ** (years * compounding_periods))\n",
    "    present_value_formatted= round(present_value, 2)\n",
    "    return present_value_formatted"
   ]
  },
  {
   "cell_type": "code",
   "execution_count": 70,
   "id": "9ce71add",
   "metadata": {},
   "outputs": [],
   "source": [
    "\n",
    "price= 1000\n",
    "future_value=1000\n",
    "discount_rate= .1\n",
    "compounding_periods= 1\n",
    "years= 1"
   ]
  },
  {
   "cell_type": "code",
   "execution_count": 72,
   "id": "e7f7de3b",
   "metadata": {},
   "outputs": [
    {
     "name": "stdout",
     "output_type": "stream",
     "text": [
      "909.09\n",
      "bond is overpriced\n"
     ]
    }
   ],
   "source": [
    "present_value= calculate_present_value(future_value, discount_rate, compounding_period, years)\n",
    "print(present_value)\n",
    "if present_value> price: print(\"bond is trading at a discount\") \n",
    "elif present_value== price: print(\"bond is fairly priced\") \n",
    "else: print(\"bond is overpriced\")\n",
    "#end of exercise"
   ]
  },
  {
   "cell_type": "code",
   "execution_count": null,
   "id": "2e355f87",
   "metadata": {},
   "outputs": [],
   "source": []
  },
  {
   "cell_type": "code",
   "execution_count": 74,
   "id": "f834fa92",
   "metadata": {},
   "outputs": [],
   "source": [
    "#Calculate NPV and find the project with the highest NPV\n",
    "import numpy\n",
    "import numpy_financial as npf"
   ]
  },
  {
   "cell_type": "code",
   "execution_count": 75,
   "id": "15511b96",
   "metadata": {},
   "outputs": [],
   "source": [
    "cash_flows_conservative = [-1000, 400, 400, 400, 400]\n",
    "cash_flows_neutral = [-1500, 600, 600, 600, 600]\n",
    "cash_flows_aggressive = [-2250, 800, 800, 800, 800]\n",
    "\n",
    "interest=.1\n",
    "npv_dict={}"
   ]
  },
  {
   "cell_type": "code",
   "execution_count": 83,
   "id": "aecb56ca",
   "metadata": {},
   "outputs": [
    {
     "name": "stdout",
     "output_type": "stream",
     "text": [
      "{'conservative': 267.94617853971704, 'neutral': 401.91926780957544, 'aggressive': 285.8923570794341}\n"
     ]
    }
   ],
   "source": [
    "npv_dict[\"conservative\"]= npf.npv(interest, cash_flows_conservative)\n",
    "npv_dict[\"neutral\"]= npf.npv(interest, cash_flows_neutral)\n",
    "npv_dict[\"aggressive\"]= npf.npv(interest, cash_flows_aggressive)\n",
    "\n",
    "\n",
    "print(npv_dict)\n"
   ]
  },
  {
   "cell_type": "code",
   "execution_count": 84,
   "id": "7c3e43da",
   "metadata": {},
   "outputs": [
    {
     "name": "stdout",
     "output_type": "stream",
     "text": [
      "401.91926780957544\n"
     ]
    }
   ],
   "source": [
    "print(max(npv_dict.values()))\n",
    "#end of exercise"
   ]
  },
  {
   "cell_type": "code",
   "execution_count": null,
   "id": "19e8ac05",
   "metadata": {},
   "outputs": [],
   "source": []
  },
  {
   "cell_type": "code",
   "execution_count": 132,
   "id": "a762dacd",
   "metadata": {},
   "outputs": [],
   "source": [
    "# read and write text files using python\n",
    "from pathlib import Path"
   ]
  },
  {
   "cell_type": "code",
   "execution_count": 97,
   "id": "5092951b",
   "metadata": {},
   "outputs": [
    {
     "name": "stdout",
     "output_type": "stream",
     "text": [
      "current working directory: /Users/khashayarzare\n"
     ]
    }
   ],
   "source": [
    "print(f\"current working directory: {Path.cwd()}\")"
   ]
  },
  {
   "cell_type": "code",
   "execution_count": 115,
   "id": "3d74c1b0",
   "metadata": {},
   "outputs": [],
   "source": [
    "costumer_total=0\n",
    "day_count=0"
   ]
  },
  {
   "cell_type": "code",
   "execution_count": 122,
   "id": "aee391ed",
   "metadata": {},
   "outputs": [],
   "source": [
    "file = Path('/Users/khashayarzare/Desktop/Carleton University/bootcamp/python2.3/08-Stu_File_IO/Resources/customer_traffic.txt')\n",
    "\n",
    "with open(file, 'r')as file:\n",
    "    for line in file:\n",
    "        number=int(line)\n",
    "        costumer_total+= number\n",
    "        day_count+=1\n"
   ]
  },
  {
   "cell_type": "code",
   "execution_count": 123,
   "id": "07ca20f9",
   "metadata": {},
   "outputs": [
    {
     "name": "stdout",
     "output_type": "stream",
     "text": [
      "customer total is 4945\n",
      "total number of days is 100\n"
     ]
    }
   ],
   "source": [
    "print(f\"customer total is {costumer_total}\")\n",
    "print(f\"total number of days is {day_count}\")   \n",
    "       \n",
    "            "
   ]
  },
  {
   "cell_type": "code",
   "execution_count": 131,
   "id": "59175a94",
   "metadata": {},
   "outputs": [],
   "source": [
    "output_file=Path('/Users/khashayarzare/Desktop/Carleton University/bootcamp/python2.3/08-Stu_File_IO/Resources/output.txt')\n",
    "average=costumer_total/day_count\n",
    "\n",
    "with open(output_file, 'w') as output:\n",
    "    output.write(f\"the total costumer visits are {costumer_total}\")\n",
    "    output.write(\"\\n\")\n",
    "    output.write(f\"The total number of days in sample are {day_count}\")\n",
    "    output.write(\"\\n\")\n",
    "    output.write(f\"the average number of visits are {average}\")\n",
    "\n",
    "#end of exercise\n"
   ]
  },
  {
   "cell_type": "code",
   "execution_count": 133,
   "id": "b7b69a4b",
   "metadata": {},
   "outputs": [],
   "source": []
  },
  {
   "cell_type": "code",
   "execution_count": 136,
   "id": "1d13321a",
   "metadata": {},
   "outputs": [],
   "source": [
    "import csv\n",
    "csvpath= Path('/Users/khashayarzare/Desktop/Carleton University/bootcamp/python2.3/09-Ins_CSV_Reader/Resources/accounting.csv')"
   ]
  },
  {
   "cell_type": "code",
   "execution_count": 137,
   "id": "e51ea500",
   "metadata": {},
   "outputs": [],
   "source": [
    "salaries=[]\n",
    "line_num=0\n"
   ]
  },
  {
   "cell_type": "code",
   "execution_count": 151,
   "id": "bf242519",
   "metadata": {},
   "outputs": [
    {
     "name": "stdout",
     "output_type": "stream",
     "text": [
      "<class '_io.TextIOWrapper'>\n",
      "['First Name', 'Last Name', 'SSN', 'Salary'] <----header\n",
      "['Tina', 'Fleming', '619-16-7988', '75000']\n",
      "['Erica', 'Shah', '164-51-7615', '40000']\n",
      "['Paula', 'Ortiz', '051-83-3290', '120000']\n",
      "['James', 'Hendricks', '776-83-2884', '90000']\n",
      "['Lauren', 'King', '197-94-2398', '60000']\n",
      "['David', 'Cowan', '252-92-1832', '35000']\n",
      "['Andrew', 'Burton', '296-23-6842', '150000']\n",
      "['Julian', 'Baker', '337-40-7543', '75000']\n",
      "['Scott', 'Castro', '399-46-5595', '50000']\n",
      "['Billy', 'Rodriguez', '014-18-2503', '65000']\n",
      "['Darrell', 'Leblanc', '005-82-7918', '40000']\n",
      "['David', 'Hammond', '561-17-6312', '90000']\n"
     ]
    }
   ],
   "source": [
    "with open(csvpath, 'r')as csvfile:\n",
    "    print(type(csvfile))\n",
    "    csvreader=csv.reader(csvfile, delimiter=',')\n",
    "    header=next(csvreader)\n",
    "    line_num+=1\n",
    "    \n",
    "    print(f\"{header} <----header\")\n",
    "    for row in csvreader:\n",
    "        print(row)\n",
    "        salary= int(row[3])\n",
    "        salaries.append(salary)"
   ]
  },
  {
   "cell_type": "code",
   "execution_count": 152,
   "id": "1e3052db",
   "metadata": {},
   "outputs": [],
   "source": [
    "max_sal=0\n",
    "min_sal=0\n",
    "avg_sal=0\n",
    "total_sal=0\n",
    "count_sal=0"
   ]
  },
  {
   "cell_type": "code",
   "execution_count": 170,
   "id": "9faabbd1",
   "metadata": {},
   "outputs": [],
   "source": [
    "for salary in salaries: \n",
    "    total_sal+= salary\n",
    "    count_sal+= 1 \n",
    "    if min_sal== 0: min_sal= salary\n",
    "    elif salary> max_sal: max_sal= salary\n",
    "    elif salary< min_sal: min_sal= salary\n",
    "        #logic to get min/ max salary "
   ]
  },
  {
   "cell_type": "raw",
   "id": "c6a351f6",
   "metadata": {},
   "source": [
    "avg_sal= total_sal/count_sal\n"
   ]
  },
  {
   "cell_type": "code",
   "execution_count": 189,
   "id": "1b44a8a4",
   "metadata": {},
   "outputs": [
    {
     "data": {
      "text/plain": [
       "75384.61538461539"
      ]
     },
     "execution_count": 189,
     "metadata": {},
     "output_type": "execute_result"
    }
   ],
   "source": [
    "avg_sal"
   ]
  },
  {
   "cell_type": "code",
   "execution_count": 179,
   "id": "217d1aaa",
   "metadata": {},
   "outputs": [
    {
     "data": {
      "text/plain": [
       "150000"
      ]
     },
     "execution_count": 179,
     "metadata": {},
     "output_type": "execute_result"
    }
   ],
   "source": [
    "max_sal"
   ]
  },
  {
   "cell_type": "code",
   "execution_count": 180,
   "id": "7c53005d",
   "metadata": {},
   "outputs": [
    {
     "data": {
      "text/plain": [
       "[90000,\n",
       " 75000,\n",
       " 40000,\n",
       " 120000,\n",
       " 90000,\n",
       " 60000,\n",
       " 35000,\n",
       " 150000,\n",
       " 75000,\n",
       " 50000,\n",
       " 65000,\n",
       " 40000,\n",
       " 90000]"
      ]
     },
     "execution_count": 180,
     "metadata": {},
     "output_type": "execute_result"
    }
   ],
   "source": [
    "salaries"
   ]
  },
  {
   "cell_type": "code",
   "execution_count": 181,
   "id": "b8df9ff0",
   "metadata": {},
   "outputs": [
    {
     "data": {
      "text/plain": [
       "65"
      ]
     },
     "execution_count": 181,
     "metadata": {},
     "output_type": "execute_result"
    }
   ],
   "source": [
    "count_sal"
   ]
  },
  {
   "cell_type": "code",
   "execution_count": 182,
   "id": "26dad80c",
   "metadata": {},
   "outputs": [
    {
     "data": {
      "text/plain": [
       "4900000"
      ]
     },
     "execution_count": 182,
     "metadata": {},
     "output_type": "execute_result"
    }
   ],
   "source": [
    "total_sal"
   ]
  },
  {
   "cell_type": "code",
   "execution_count": 183,
   "id": "1953f56d",
   "metadata": {},
   "outputs": [
    {
     "data": {
      "text/plain": [
       "0"
      ]
     },
     "execution_count": 183,
     "metadata": {},
     "output_type": "execute_result"
    }
   ],
   "source": [
    "avg_sal"
   ]
  },
  {
   "cell_type": "code",
   "execution_count": 194,
   "id": "73c535f1",
   "metadata": {},
   "outputs": [],
   "source": [
    "outputpath=Path(\"/Users/khashayarzare/Desktop/Carleton University/bootcamp/python2.3/09-Ins_CSV_Reader/output.csv\")"
   ]
  },
  {
   "cell_type": "code",
   "execution_count": 199,
   "id": "314da018",
   "metadata": {},
   "outputs": [],
   "source": [
    "metrics=[max_sal, min_sal, avg_sal]\n",
    "with open(outputpath, 'w') as csvfile:\n",
    "    #set the file object as a csv writter object \n",
    "    csvwriter= csv.writer(csvfile, delimiter=',')\n",
    "    #write the header to the output file \n",
    "    csvwriter.writerow(header)\n",
    "    #write the list of metrics to the output file \n",
    "    csvwriter.writerow(metrics)\n",
    "#end of Activity"
   ]
  },
  {
   "cell_type": "code",
   "execution_count": null,
   "id": "9ca57b8d",
   "metadata": {},
   "outputs": [],
   "source": []
  },
  {
   "cell_type": "code",
   "execution_count": 201,
   "id": "072119a0",
   "metadata": {},
   "outputs": [
    {
     "name": "stdout",
     "output_type": "stream",
     "text": [
      "['Name', 'Count', 'Revenue']\n",
      "['Andrew', '9', '58']\n",
      "['Phil', '8', '377']\n",
      "['Madison', '5', '302']\n",
      "['Sally', '1', '75']\n",
      "['Tyler', '1', '334']\n",
      "['Billy', '7', '146']\n",
      "['Steve', '1', '178']\n",
      "['Madison', '7', '313']\n",
      "['Sarah', '8', '103']\n",
      "['Tim', '5', '344']\n",
      "['Andrew', '5', '349']\n",
      "['Phil', '8', '61']\n",
      "['Madison', '4', '196']\n",
      "['Carl', '1', '374']\n",
      "['Devon', '9', '220']\n",
      "['Megan', '9', '321']\n",
      "['Sarah', '7', '277']\n",
      "['David', '2', '246']\n",
      "['Sally', '9', '198']\n",
      "['Tom', '5', '221']\n",
      "['Andrew', '1', '191']\n",
      "['Paul', '5', '399']\n",
      "['Carl', '1', '300']\n",
      "['Tim', '1', '345']\n",
      "['Madison', '4', '202']\n",
      "['John', '4', '305']\n",
      "['Phil', '6', '249']\n",
      "['Madison', '7', '113']\n",
      "['Sally', '6', '256']\n"
     ]
    }
   ],
   "source": [
    "# @TODO: Set the file path\n",
    "readpath=Path('/Users/khashayarzare/Desktop/Carleton University/bootcamp/python2.3/10-Stu_CSV_Reader/Resources/sales.csv')\n",
    "# Initialize list of records\n",
    "records = {}\n",
    "\n",
    "# @TODO: Open the csv file as an object\n",
    "with open(readpath, 'r') as csvfile:\n",
    "    # Pass in the csv file to the csv.reader() function\n",
    "    csvreader=csv.reader(csvfile, delimiter=\",\")\n",
    "    # @TODO: Read the header row\n",
    "    csv_header= next(csvreader)\n",
    "    # @TODO: Print the header\n",
    "    print(csv_header)\n",
    "    \n",
    "    for row in csvreader:\n",
    "        print(row)\n",
    "\n",
    "    # @TODO: Append the column 'Average' to the header\n",
    "    \n",
    "    # @TODO: Append the header to the list of records\n",
    "    \n",
    "    # @TODO: Read each row of data after the header\n",
    "\n",
    "        # @TODO: Print the row\n",
    "\n",
    "        # @TODO:\n",
    "        # Set the 'name', 'count', 'revenue' variables for better\n",
    "        # readability, convert strings to ints for numerical calculations\n",
    "    name= row[0]\n",
    "    count=int(row[1])\n",
    "    revenue=int(row[2])\n",
    "\n",
    "\n",
    "        # @TODO: Calculate the average (round to the nearest 2 decimal places)\n",
    "average= round(revenue / count, 2)\n",
    "\n",
    "        # @TODO: Append the average to the row\n",
    "\n",
    "        # @TODO: Append the row to the list of records\n",
    "\n",
    "\n",
    "# @TODO: Set the path for the output.csv\n",
    "\n",
    "# @TODO:\n",
    "# Open the output path as a file and pass into the 'csv.writer()' function\n",
    "# Set the delimiter/separater as a ','\n",
    "\n",
    "\n",
    "    # @TODO:\n",
    "    # Loop through the list of records and write every record to the\n",
    "    # output csv file\n",
    "\n"
   ]
  },
  {
   "cell_type": "code",
   "execution_count": null,
   "id": "d2310105",
   "metadata": {},
   "outputs": [],
   "source": []
  }
 ],
 "metadata": {
  "kernelspec": {
   "display_name": "Python 3 (ipykernel)",
   "language": "python",
   "name": "python3"
  },
  "language_info": {
   "codemirror_mode": {
    "name": "ipython",
    "version": 3
   },
   "file_extension": ".py",
   "mimetype": "text/x-python",
   "name": "python",
   "nbconvert_exporter": "python",
   "pygments_lexer": "ipython3",
   "version": "3.9.12"
  }
 },
 "nbformat": 4,
 "nbformat_minor": 5
}
