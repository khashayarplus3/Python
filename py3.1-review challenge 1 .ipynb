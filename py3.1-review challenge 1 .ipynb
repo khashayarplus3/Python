{
 "cells": [
  {
   "cell_type": "code",
   "execution_count": 1,
   "id": "10ced83e",
   "metadata": {},
   "outputs": [],
   "source": [
    "import random"
   ]
  },
  {
   "cell_type": "code",
   "execution_count": 11,
   "id": "0f0c4799",
   "metadata": {},
   "outputs": [
    {
     "name": "stdout",
     "output_type": "stream",
     "text": [
      "false\n",
      "smallest number is [1]\n",
      "shortest string is Bombay\n",
      "[12, 13, 21, 10, 17]\n"
     ]
    }
   ],
   "source": [
    "# Import the `random` library.\n",
    "\n",
    "# Answer each question with the correct coding solution.\n",
    "\n",
    "# QUESTION 1: Create a function called `number_guess` that takes in an integer as an argument.\n",
    "# If the number is 42, print(true). If it isn't 42, print(false)\n",
    "\n",
    "# YOUR CODE HERE\n",
    "nf= 44\n",
    "def number_guess(number):\n",
    "    if number == 42:\n",
    "        print('true')\n",
    "    else: print('false')\n",
    "\n",
    "number_guess(nf)\n",
    "\n",
    "# QUESTION 2: Write a function that takes in a list of numbers. the function should print the smallest number in the given list\n",
    "\n",
    "# YOUR CODE HERE\n",
    "numbs=[1,2,3,4,110,12]\n",
    "def smallest(numbs):\n",
    "    numbs.sort()\n",
    "    print('smallest number is', numbs[:1])\n",
    "\n",
    "smallest(numbs)\n",
    "\n",
    "# QUESTION 3: Write a function which takes in a list of strings. The function should print the shortest string in the list.\n",
    "cities= ['New york' , 'Bombay', 'Tehran', 'london']\n",
    "def succint(cities):\n",
    "    smalls= min(cities, key=len)\n",
    "    print('shortest string is', smalls)\n",
    "\n",
    "succint(cities)\n",
    "    \n",
    "\n",
    "    \n",
    "    \n",
    "#QUESTION 4: Write a function that takes in three arguments: a high value, a low value and a list of numbers.\n",
    "# The function should print a new list of numbers where the elements are greater than the low value and less than the high value\n",
    "\n",
    "# YOUR CODE HERE\n",
    "lis=[]\n",
    "def rado(hi,low, lis):\n",
    "    for i in range(5): \n",
    "        e = random.randrange(low, hi)\n",
    "        lis.append(e)\n",
    "    print(lis)\n",
    "rado(27, 9, lis)"
   ]
  },
  {
   "cell_type": "code",
   "execution_count": 4,
   "id": "90a58197",
   "metadata": {},
   "outputs": [
    {
     "name": "stdout",
     "output_type": "stream",
     "text": [
      "<map object at 0x7fed09a5ae80>\n",
      "<map object at 0x7fed09a96940>\n"
     ]
    }
   ],
   "source": [
    "def square_it_func(a):\n",
    "    return a * a\n",
    "\n",
    "x = map(square_it_func, [1, 4, 7])\n",
    "print(x) # prints '[1, 16, 49]'\n",
    "\n",
    "def multiplier_func(a, b):\n",
    "    return a * b\n",
    "\n",
    "x = map(multiplier_func, [1, 4, 7], [2, 5, 8])\n",
    "print(x) # prints '[2, 20, 56]'"
   ]
  },
  {
   "cell_type": "code",
   "execution_count": null,
   "id": "2daf68b9",
   "metadata": {},
   "outputs": [],
   "source": [
    "\n",
    "    "
   ]
  }
 ],
 "metadata": {
  "kernelspec": {
   "display_name": "Python 3 (ipykernel)",
   "language": "python",
   "name": "python3"
  },
  "language_info": {
   "codemirror_mode": {
    "name": "ipython",
    "version": 3
   },
   "file_extension": ".py",
   "mimetype": "text/x-python",
   "name": "python",
   "nbconvert_exporter": "python",
   "pygments_lexer": "ipython3",
   "version": "3.9.12"
  }
 },
 "nbformat": 4,
 "nbformat_minor": 5
}
