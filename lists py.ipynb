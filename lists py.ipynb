{
 "cells": [
  {
   "cell_type": "code",
   "execution_count": 1,
   "id": "9ce66657-3020-4f09-a88d-e4b6da7857d5",
   "metadata": {},
   "outputs": [],
   "source": [
    "grocery= ['water', 'butter','eggs', 'apples', 'cinnamons', 'sugar', 'milk'] "
   ]
  },
  {
   "cell_type": "code",
   "execution_count": 4,
   "id": "ee5a9fd2-3489-4f53-9359-7d9f902fd9e0",
   "metadata": {},
   "outputs": [
    {
     "name": "stdout",
     "output_type": "stream",
     "text": [
      "['water', 'butter']\n"
     ]
    }
   ],
   "source": [
    "print(grocery[:2])"
   ]
  },
  {
   "cell_type": "code",
   "execution_count": 9,
   "id": "5532d4c1-2e13-404f-846a-cad800abb229",
   "metadata": {},
   "outputs": [
    {
     "name": "stdout",
     "output_type": "stream",
     "text": [
      "['eggs', 'apples', 'cinnamons', 'sugar', 'milk']\n"
     ]
    }
   ],
   "source": [
    "print(grocery[2:])"
   ]
  },
  {
   "cell_type": "code",
   "execution_count": 10,
   "id": "b39b128f-aacd-4d7b-ac7a-d0828da072b7",
   "metadata": {},
   "outputs": [
    {
     "name": "stdout",
     "output_type": "stream",
     "text": [
      "['water', 'eggs', 'cinnamons', 'milk']\n"
     ]
    }
   ],
   "source": [
    "print(grocery[::2])"
   ]
  },
  {
   "cell_type": "code",
   "execution_count": 11,
   "id": "67b42ed6-a401-4d97-8d03-0a2694e4a066",
   "metadata": {},
   "outputs": [],
   "source": [
    "grocery.append('flour')"
   ]
  },
  {
   "cell_type": "code",
   "execution_count": 12,
   "id": "1152a382-3d2b-4bd4-a839-c6fd315973d2",
   "metadata": {},
   "outputs": [
    {
     "name": "stdout",
     "output_type": "stream",
     "text": [
      "['water', 'butter', 'eggs', 'apples', 'cinnamons', 'sugar', 'milk', 'flour']\n"
     ]
    }
   ],
   "source": [
    "print (grocery)"
   ]
  },
  {
   "cell_type": "code",
   "execution_count": 13,
   "id": "f93e7d3a-32dc-45db-bc71-f99b3a98bcf5",
   "metadata": {},
   "outputs": [
    {
     "ename": "AttributeError",
     "evalue": "'list' object has no attribute 'replace'",
     "output_type": "error",
     "traceback": [
      "\u001b[0;31m---------------------------------------------------------------------------\u001b[0m",
      "\u001b[0;31mAttributeError\u001b[0m                            Traceback (most recent call last)",
      "Input \u001b[0;32mIn [13]\u001b[0m, in \u001b[0;36m<cell line: 1>\u001b[0;34m()\u001b[0m\n\u001b[0;32m----> 1\u001b[0m \u001b[43mgrocery\u001b[49m\u001b[38;5;241;43m.\u001b[39;49m\u001b[43mreplace\u001b[49m(\u001b[38;5;124m'\u001b[39m\u001b[38;5;124mapples\u001b[39m\u001b[38;5;124m'\u001b[39m, \u001b[38;5;124m'\u001b[39m\u001b[38;5;124mgala apples\u001b[39m\u001b[38;5;124m'\u001b[39m)\n",
      "\u001b[0;31mAttributeError\u001b[0m: 'list' object has no attribute 'replace'"
     ]
    }
   ],
   "source": [
    "grocery.replace('apples', 'gala apples')"
   ]
  },
  {
   "cell_type": "code",
   "execution_count": 14,
   "id": "860d9c8b-6881-40eb-a064-16cded3417ab",
   "metadata": {},
   "outputs": [],
   "source": [
    "grocery[3]= 'gala apples'"
   ]
  },
  {
   "cell_type": "code",
   "execution_count": 15,
   "id": "0bca9adc-9f34-4247-9b9a-0862558f215c",
   "metadata": {},
   "outputs": [
    {
     "name": "stdout",
     "output_type": "stream",
     "text": [
      "['water', 'butter', 'eggs', 'gala apples', 'cinnamons', 'sugar', 'milk', 'flour']\n"
     ]
    }
   ],
   "source": [
    "print(grocery)"
   ]
  },
  {
   "cell_type": "code",
   "execution_count": 18,
   "id": "d7e6bf32-2880-4ed7-87ce-1704832b042e",
   "metadata": {},
   "outputs": [
    {
     "ename": "TypeError",
     "evalue": "'builtin_function_or_method' object is not subscriptable",
     "output_type": "error",
     "traceback": [
      "\u001b[0;31m---------------------------------------------------------------------------\u001b[0m",
      "\u001b[0;31mTypeError\u001b[0m                                 Traceback (most recent call last)",
      "Input \u001b[0;32mIn [18]\u001b[0m, in \u001b[0;36m<cell line: 1>\u001b[0;34m()\u001b[0m\n\u001b[0;32m----> 1\u001b[0m \u001b[43mgrocery\u001b[49m\u001b[38;5;241;43m.\u001b[39;49m\u001b[43mremove\u001b[49m\u001b[43m[\u001b[49m\u001b[38;5;241;43m0\u001b[39;49m\u001b[43m,\u001b[49m\u001b[38;5;241;43m5\u001b[39;49m\u001b[43m]\u001b[49m\n",
      "\u001b[0;31mTypeError\u001b[0m: 'builtin_function_or_method' object is not subscriptable"
     ]
    }
   ],
   "source": [
    "grocery.remove[0,5]"
   ]
  },
  {
   "cell_type": "code",
   "execution_count": 19,
   "id": "0e20e8dd-d42f-4812-895d-932f9349114c",
   "metadata": {},
   "outputs": [],
   "source": [
    "grocery.remove('water')"
   ]
  },
  {
   "cell_type": "code",
   "execution_count": 20,
   "id": "14b66900-2f03-4483-abb1-b75fc5b105eb",
   "metadata": {},
   "outputs": [
    {
     "data": {
      "text/plain": [
       "'milk'"
      ]
     },
     "execution_count": 20,
     "metadata": {},
     "output_type": "execute_result"
    }
   ],
   "source": [
    "grocery.pop(5)"
   ]
  },
  {
   "cell_type": "code",
   "execution_count": 21,
   "id": "f0680600-141a-4355-9fed-75f9975bd8d9",
   "metadata": {},
   "outputs": [
    {
     "name": "stdout",
     "output_type": "stream",
     "text": [
      "['butter', 'eggs', 'gala apples', 'cinnamons', 'sugar', 'flour']\n"
     ]
    }
   ],
   "source": [
    "print(grocery)"
   ]
  },
  {
   "cell_type": "code",
   "execution_count": 23,
   "id": "9d9af4c0-69c0-485d-a657-78ded0d0f9b9",
   "metadata": {},
   "outputs": [],
   "source": [
    "grocery.append('milk')"
   ]
  },
  {
   "cell_type": "code",
   "execution_count": 24,
   "id": "748f70fc-f8a0-4758-bf66-69f9effe833d",
   "metadata": {},
   "outputs": [
    {
     "data": {
      "text/plain": [
       "'sugar'"
      ]
     },
     "execution_count": 24,
     "metadata": {},
     "output_type": "execute_result"
    }
   ],
   "source": [
    "grocery.pop(4)"
   ]
  },
  {
   "cell_type": "code",
   "execution_count": 25,
   "id": "3735da6f-104c-41c4-9b7b-86d95761540e",
   "metadata": {},
   "outputs": [
    {
     "name": "stdout",
     "output_type": "stream",
     "text": [
      "['butter', 'eggs', 'gala apples', 'cinnamons', 'flour', 'milk']\n"
     ]
    }
   ],
   "source": [
    "print(grocery)"
   ]
  },
  {
   "cell_type": "code",
   "execution_count": 26,
   "id": "4609674c-cb88-4bfd-8f4a-c09e274a498a",
   "metadata": {},
   "outputs": [
    {
     "data": {
      "text/plain": [
       "'milk'"
      ]
     },
     "execution_count": 26,
     "metadata": {},
     "output_type": "execute_result"
    }
   ],
   "source": [
    "grocery.pop(-1)"
   ]
  },
  {
   "cell_type": "code",
   "execution_count": null,
   "id": "a54423a5-d815-42fc-80c0-82673651028d",
   "metadata": {},
   "outputs": [],
   "source": []
  }
 ],
 "metadata": {
  "kernelspec": {
   "display_name": "Python 3 (ipykernel)",
   "language": "python",
   "name": "python3"
  },
  "language_info": {
   "codemirror_mode": {
    "name": "ipython",
    "version": 3
   },
   "file_extension": ".py",
   "mimetype": "text/x-python",
   "name": "python",
   "nbconvert_exporter": "python",
   "pygments_lexer": "ipython3",
   "version": "3.9.12"
  }
 },
 "nbformat": 4,
 "nbformat_minor": 5
}
