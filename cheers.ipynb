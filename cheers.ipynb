{
 "cells": [
  {
   "cell_type": "code",
   "execution_count": 1,
   "id": "73c9de32",
   "metadata": {},
   "outputs": [
    {
     "name": "stdout",
     "output_type": "stream",
     "text": [
      "c\n",
      "h\n",
      "e\n",
      "e\n",
      "r\n",
      "\n",
      "What does that spell?!\n"
     ]
    },
    {
     "ename": "NameError",
     "evalue": "name 'cheer' is not defined",
     "output_type": "error",
     "traceback": [
      "\u001b[0;31m---------------------------------------------------------------------------\u001b[0m",
      "\u001b[0;31mNameError\u001b[0m                                 Traceback (most recent call last)",
      "Input \u001b[0;32mIn [1]\u001b[0m, in \u001b[0;36m<cell line: 14>\u001b[0;34m()\u001b[0m\n\u001b[1;32m     12\u001b[0m \u001b[38;5;66;03m# Print excitement to screen\u001b[39;00m\n\u001b[1;32m     13\u001b[0m \u001b[38;5;28mprint\u001b[39m(\u001b[38;5;124m\"\u001b[39m\u001b[38;5;130;01m\\n\u001b[39;00m\u001b[38;5;124mWhat does that spell?!\u001b[39m\u001b[38;5;124m\"\u001b[39m)\n\u001b[0;32m---> 14\u001b[0m \u001b[38;5;28mprint\u001b[39m(\u001b[43mcheer\u001b[49m \u001b[38;5;241m+\u001b[39m \u001b[38;5;124m\"\u001b[39m\u001b[38;5;124m!\u001b[39m\u001b[38;5;130;01m\\n\u001b[39;00m\u001b[38;5;124mWoohoo! Go \u001b[39m\u001b[38;5;124m\"\u001b[39m \u001b[38;5;241m+\u001b[39m cheer \u001b[38;5;241m+\u001b[39m \u001b[38;5;124m\"\u001b[39m\u001b[38;5;124m!\u001b[39m\u001b[38;5;124m\"\u001b[39m)\n\u001b[1;32m     15\u001b[0m \u001b[38;5;28mprint\u001b[39m(cheer_symbol \u001b[38;5;241m*\u001b[39m \u001b[38;5;241m3\u001b[39m)\n\u001b[1;32m     16\u001b[0m \u001b[38;5;28mprint\u001b[39m(cheer_symbol_2)\n",
      "\u001b[0;31mNameError\u001b[0m: name 'cheer' is not defined"
     ]
    }
   ],
   "source": [
    "# Create a variable named cheer and give it a word to cheer (i.e. Python or FinTech)\n",
    "word= \"cheers\"\n",
    "\n",
    "# Below strings can be used to add fun\n",
    "cheer_symbol = \"*\\O/*\"\n",
    "cheer_symbol_2 = \"ヘ( ^o^)ノ＼(^_^ )\"\n",
    "\n",
    "# Loop through string and print each letter with a cheer\n",
    "for i in word:\n",
    "    print(i) \n",
    "\n",
    "# Print excitement to screen\n",
    "print(\"What does that spell?!\")\n",
    "print(word + \"nWoohoo! Go \" + word + \"!\")\n",
    "print(cheer_symbol * 3)\n",
    "print(cheer_symbol_2)\n"
   ]
  },
  {
   "cell_type": "code",
   "execution_count": 6,
   "id": "dd880e17",
   "metadata": {},
   "outputs": [
    {
     "name": "stdout",
     "output_type": "stream",
     "text": [
      "c\n",
      "h\n",
      "e\n",
      "e\n",
      "r\n",
      "s\n",
      "What does that spell?!\n",
      "cheersWoohoo! Go /ncheers!\n",
      "*\\O/**\\O/**\\O/*\n",
      "ヘ( ^o^)ノ＼(^_^ )\n"
     ]
    }
   ],
   "source": [
    "word= \"cheers\"\n",
    "\n",
    "# Below strings can be used to add fun\n",
    "cheer_symbol = \"*\\O/*\"\n",
    "cheer_symbol_2 = \"ヘ( ^o^)ノ＼(^_^ )\"\n",
    "\n",
    "# Loop through string and print each letter with a cheer\n",
    "for i in word:\n",
    "    print(i) \n",
    "\n",
    "# Print excitement to screen\n",
    "print(\"What does that spell?!\")\n",
    "print(word + \"/nWoohoo! Go \" + word + \"!\")\n",
    "print(cheer_symbol * 3)\n",
    "print(cheer_symbol_2)\n"
   ]
  },
  {
   "cell_type": "code",
   "execution_count": 9,
   "id": "955ef90d",
   "metadata": {},
   "outputs": [
    {
     "name": "stdout",
     "output_type": "stream",
     "text": [
      "c\n",
      "h\n",
      "e\n",
      "e\n",
      "r\n",
      "\n",
      "What does that spell?!\n",
      "cheer!\n",
      "Woohoo! Go cheer!\n",
      "*\\O/**\\O/**\\O/*\n",
      "ヘ( ^o^)ノ＼(^_^ )\n"
     ]
    }
   ],
   "source": [
    "#Create a variable named cheer and give it a word to cheer (i.e. Python or FinTech)\n",
    "word= \"cheer\"\n",
    "\n",
    "# Below strings can be used to add fun\n",
    "cheer_symbol = \"*\\O/*\"\n",
    "cheer_symbol_2 = \"ヘ( ^o^)ノ＼(^_^ )\"\n",
    "\n",
    "# Loop through string and print each letter with a cheer\n",
    "for i in word:\n",
    "    print(i) \n",
    "\n",
    "# Print excitement to screen\n",
    "print(\"\\nWhat does that spell?!\")\n",
    "print(word + \"!\\nWoohoo! Go \" + word + \"!\")\n",
    "print(cheer_symbol * 3)\n",
    "print(cheer_symbol_2)\n",
    "\n",
    "\n"
   ]
  },
  {
   "cell_type": "code",
   "execution_count": 12,
   "id": "c55fc96e",
   "metadata": {},
   "outputs": [
    {
     "name": "stdout",
     "output_type": "stream",
     "text": [
      "c\n",
      "h\n",
      "e\n",
      "e\n",
      "r\n",
      "s\n",
      "What does that spell?!\n",
      "cheers!\n",
      "Woohoo! Go cheers!\n",
      "*\\O/**\\O/**\\O/*\n",
      "ヘ( ^o^)ノ＼(^_^ )\n"
     ]
    }
   ],
   "source": [
    "word= \"cheers\"\n",
    "\n",
    "# Below strings can be used to add fun\n",
    "cheer_symbol = \"*\\O/*\"\n",
    "cheer_symbol_2 = \"ヘ( ^o^)ノ＼(^_^ )\"\n",
    "\n",
    "# Loop through string and print each letter with a cheer\n",
    "for i in word:\n",
    "    print(i) \n",
    "\n",
    "# Print excitement to screen\n",
    "print(\"What does that spell?!\")\n",
    "print(word + \"!\\nWoohoo! Go \" + word + \"!\")\n",
    "print(cheer_symbol * 3)\n",
    "print(cheer_symbol_2)\n"
   ]
  },
  {
   "cell_type": "code",
   "execution_count": null,
   "id": "456a183e",
   "metadata": {},
   "outputs": [],
   "source": []
  }
 ],
 "metadata": {
  "kernelspec": {
   "display_name": "Python 3 (ipykernel)",
   "language": "python",
   "name": "python3"
  },
  "language_info": {
   "codemirror_mode": {
    "name": "ipython",
    "version": 3
   },
   "file_extension": ".py",
   "mimetype": "text/x-python",
   "name": "python",
   "nbconvert_exporter": "python",
   "pygments_lexer": "ipython3",
   "version": "3.9.12"
  }
 },
 "nbformat": 4,
 "nbformat_minor": 5
}
