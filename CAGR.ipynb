{
 "cells": [
  {
   "cell_type": "code",
   "execution_count": 6,
   "id": "0e826a4a-4d16-4ae6-bce9-7a28c2195aca",
   "metadata": {},
   "outputs": [
    {
     "name": "stdin",
     "output_type": "stream",
     "text": [
      "please enter number of years invested: 10\n",
      "please enter the intial amount invested: 10\n",
      "please enter the ending current balance: 20\n"
     ]
    },
    {
     "name": "stdout",
     "output_type": "stream",
     "text": [
      "-0.8650717152326437\n"
     ]
    }
   ],
   "source": [
    "def calculate_compound_growth_rate(n, BB , EB):\n",
    "    n= float(input(\"please enter number of years invested:\"))\n",
    "    BB= float(input(\"please enter the intial amount invested:\"))\n",
    "    EB= float(input('please enter the ending current balance:'))\n",
    "    CAGR= float(((EB** (1/n)) /BB) -1)\n",
    "    print(CAGR)\n",
    "\n",
    "calculate_compound_growth_rate(1, 2, 3)"
   ]
  },
  {
   "cell_type": "code",
   "execution_count": 2,
   "id": "79e2bc91-587a-45d1-95b8-af6481bb4649",
   "metadata": {},
   "outputs": [
    {
     "name": "stdin",
     "output_type": "stream",
     "text": [
      "please enter number of years invested: 10\n",
      "please enter the intial amount invested: 100\n",
      "please enter the ending current balance: 200\n"
     ]
    },
    {
     "name": "stdout",
     "output_type": "stream",
     "text": [
      "-0.9830135353536575\n"
     ]
    }
   ],
   "source": [
    "calculate_compound_growth_rate(10, 100, 200)"
   ]
  },
  {
   "cell_type": "code",
   "execution_count": null,
   "id": "df5d404b-8d5f-45fc-9c0d-d89ac32aa99a",
   "metadata": {},
   "outputs": [],
   "source": []
  },
  {
   "cell_type": "code",
   "execution_count": 14,
   "id": "7c6836d2-70ec-4983-8d8c-4bcd53d57f60",
   "metadata": {},
   "outputs": [],
   "source": [
    "def calculate_compound_growth_rate(n, BB , EB):\n",
    "    CAGR= float(((EB /BB)** (1/n)) -1)\n",
    "    print(\"growth rate = \",  CAGR) \n",
    "    print(CAGR)"
   ]
  },
  {
   "cell_type": "code",
   "execution_count": null,
   "id": "34d2e0a9-be34-4dc2-8f45-c3899f942b3a",
   "metadata": {},
   "outputs": [],
   "source": []
  },
  {
   "cell_type": "code",
   "execution_count": 9,
   "id": "f938dc30-45d9-4490-9065-e0390882ae5a",
   "metadata": {},
   "outputs": [
    {
     "name": "stdout",
     "output_type": "stream",
     "text": [
      "growth rate =  1.9998205217854537\n"
     ]
    }
   ],
   "source": [
    "calculate_compound_growth_rate(10, 15000 , 20000)"
   ]
  },
  {
   "cell_type": "code",
   "execution_count": 11,
   "id": "76d1b4cc-13b5-49f7-a03c-aca8f30a0e2a",
   "metadata": {},
   "outputs": [
    {
     "name": "stdout",
     "output_type": "stream",
     "text": [
      "growth rate =  1.9998205217854537\n",
      "-0.9998205217854536\n"
     ]
    }
   ],
   "source": [
    " calculate_compound_growth_rate(10, 15000 , 20000)"
   ]
  },
  {
   "cell_type": "code",
   "execution_count": 13,
   "id": "841320ad-0bf7-470d-8b65-132d6cd8152c",
   "metadata": {},
   "outputs": [
    {
     "name": "stdout",
     "output_type": "stream",
     "text": [
      "growth rate =  1.9997307826781803\n",
      "-0.9997307826781803\n"
     ]
    }
   ],
   "source": [
    "calculate_compound_growth_rate(10, 10000 , 20000)"
   ]
  },
  {
   "cell_type": "code",
   "execution_count": null,
   "id": "32fd29f9-c601-4410-9b53-f101349f1e09",
   "metadata": {},
   "outputs": [],
   "source": []
  },
  {
   "cell_type": "code",
   "execution_count": 15,
   "id": "ec30b3e2-6f4b-4ef8-ba53-fec3e1e071cf",
   "metadata": {},
   "outputs": [],
   "source": [
    "def calculate_compound_growth_rate(n, BB , EB):\n",
    "    CAGR= float(((EB /BB)** (1/n)) -1)\n",
    "    print(\"growth rate = \",  CAGR) \n",
    "    print(CAGR)"
   ]
  },
  {
   "cell_type": "code",
   "execution_count": 16,
   "id": "af72c98b-82f4-41e4-a4b8-81aca636442c",
   "metadata": {},
   "outputs": [
    {
     "name": "stdout",
     "output_type": "stream",
     "text": [
      "growth rate =  0.07177346253629313\n",
      "0.07177346253629313\n"
     ]
    }
   ],
   "source": [
    "calculate_compound_growth_rate(10, 10000, 20000)"
   ]
  },
  {
   "cell_type": "code",
   "execution_count": null,
   "id": "7bcf54c6-ec89-4ead-a6e1-c36312580b1c",
   "metadata": {},
   "outputs": [],
   "source": []
  }
 ],
 "metadata": {
  "kernelspec": {
   "display_name": "Python 3 (ipykernel)",
   "language": "python",
   "name": "python3"
  },
  "language_info": {
   "codemirror_mode": {
    "name": "ipython",
    "version": 3
   },
   "file_extension": ".py",
   "mimetype": "text/x-python",
   "name": "python",
   "nbconvert_exporter": "python",
   "pygments_lexer": "ipython3",
   "version": "3.9.12"
  }
 },
 "nbformat": 4,
 "nbformat_minor": 5
}
