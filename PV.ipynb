{
 "cells": [
  {
   "cell_type": "code",
   "execution_count": 1,
   "id": "8295c80d",
   "metadata": {},
   "outputs": [
    {
     "ename": "TypeError",
     "evalue": "unsupported operand type(s) for ^: 'float' and 'int'",
     "output_type": "error",
     "traceback": [
      "\u001b[0;31m---------------------------------------------------------------------------\u001b[0m",
      "\u001b[0;31mTypeError\u001b[0m                                 Traceback (most recent call last)",
      "Input \u001b[0;32mIn [1]\u001b[0m, in \u001b[0;36m<cell line: 5>\u001b[0;34m()\u001b[0m\n\u001b[1;32m      2\u001b[0m     bond_value\u001b[38;5;241m=\u001b[39m FV \u001b[38;5;241m/\u001b[39m (\u001b[38;5;241m1\u001b[39m \u001b[38;5;241m+\u001b[39m (r\u001b[38;5;241m/\u001b[39m n)) \u001b[38;5;241m^\u001b[39m (n)\n\u001b[1;32m      3\u001b[0m     \u001b[38;5;28;01mreturn\u001b[39;00m bond_value\n\u001b[0;32m----> 5\u001b[0m \u001b[43mPV\u001b[49m\u001b[43m(\u001b[49m\u001b[38;5;241;43m10\u001b[39;49m\u001b[43m,\u001b[49m\u001b[38;5;241;43m1000\u001b[39;49m\u001b[43m,\u001b[49m\u001b[38;5;241;43m5\u001b[39;49m\u001b[43m)\u001b[49m\n",
      "Input \u001b[0;32mIn [1]\u001b[0m, in \u001b[0;36mPV\u001b[0;34m(r, FV, n)\u001b[0m\n\u001b[1;32m      1\u001b[0m \u001b[38;5;28;01mdef\u001b[39;00m \u001b[38;5;21mPV\u001b[39m(r,FV,n):\n\u001b[0;32m----> 2\u001b[0m     bond_value\u001b[38;5;241m=\u001b[39m \u001b[43mFV\u001b[49m\u001b[43m \u001b[49m\u001b[38;5;241;43m/\u001b[39;49m\u001b[43m \u001b[49m\u001b[43m(\u001b[49m\u001b[38;5;241;43m1\u001b[39;49m\u001b[43m \u001b[49m\u001b[38;5;241;43m+\u001b[39;49m\u001b[43m \u001b[49m\u001b[43m(\u001b[49m\u001b[43mr\u001b[49m\u001b[38;5;241;43m/\u001b[39;49m\u001b[43m \u001b[49m\u001b[43mn\u001b[49m\u001b[43m)\u001b[49m\u001b[43m)\u001b[49m\u001b[43m \u001b[49m\u001b[38;5;241;43m^\u001b[39;49m\u001b[43m \u001b[49m\u001b[43m(\u001b[49m\u001b[43mn\u001b[49m\u001b[43m)\u001b[49m\n\u001b[1;32m      3\u001b[0m     \u001b[38;5;28;01mreturn\u001b[39;00m bond_value\n",
      "\u001b[0;31mTypeError\u001b[0m: unsupported operand type(s) for ^: 'float' and 'int'"
     ]
    }
   ],
   "source": [
    "def PV(r,FV,n):\n",
    "    bond_value= FV / (1 + (r/ n)) ^ (n)\n",
    "    return bond_value\n",
    "\n",
    "PV(10,1000,5)"
   ]
  },
  {
   "cell_type": "code",
   "execution_count": 2,
   "id": "32ecb290",
   "metadata": {},
   "outputs": [
    {
     "ename": "TypeError",
     "evalue": "unsupported operand type(s) for ^: 'float' and 'int'",
     "output_type": "error",
     "traceback": [
      "\u001b[0;31m---------------------------------------------------------------------------\u001b[0m",
      "\u001b[0;31mTypeError\u001b[0m                                 Traceback (most recent call last)",
      "Input \u001b[0;32mIn [2]\u001b[0m, in \u001b[0;36m<cell line: 5>\u001b[0;34m()\u001b[0m\n\u001b[1;32m      2\u001b[0m     bond_value\u001b[38;5;241m=\u001b[39m \u001b[38;5;28mfloat\u001b[39m(FV \u001b[38;5;241m/\u001b[39m (\u001b[38;5;241m1\u001b[39m \u001b[38;5;241m+\u001b[39m (r\u001b[38;5;241m/\u001b[39m n)) \u001b[38;5;241m^\u001b[39m (n))\n\u001b[1;32m      3\u001b[0m     \u001b[38;5;28;01mreturn\u001b[39;00m bond_value\n\u001b[0;32m----> 5\u001b[0m \u001b[43mPV\u001b[49m\u001b[43m(\u001b[49m\u001b[38;5;241;43m10\u001b[39;49m\u001b[43m,\u001b[49m\u001b[38;5;241;43m1000\u001b[39;49m\u001b[43m,\u001b[49m\u001b[38;5;241;43m5\u001b[39;49m\u001b[43m)\u001b[49m\n",
      "Input \u001b[0;32mIn [2]\u001b[0m, in \u001b[0;36mPV\u001b[0;34m(r, FV, n)\u001b[0m\n\u001b[1;32m      1\u001b[0m \u001b[38;5;28;01mdef\u001b[39;00m \u001b[38;5;21mPV\u001b[39m(r,FV,n):\n\u001b[0;32m----> 2\u001b[0m     bond_value\u001b[38;5;241m=\u001b[39m \u001b[38;5;28mfloat\u001b[39m(\u001b[43mFV\u001b[49m\u001b[43m \u001b[49m\u001b[38;5;241;43m/\u001b[39;49m\u001b[43m \u001b[49m\u001b[43m(\u001b[49m\u001b[38;5;241;43m1\u001b[39;49m\u001b[43m \u001b[49m\u001b[38;5;241;43m+\u001b[39;49m\u001b[43m \u001b[49m\u001b[43m(\u001b[49m\u001b[43mr\u001b[49m\u001b[38;5;241;43m/\u001b[39;49m\u001b[43m \u001b[49m\u001b[43mn\u001b[49m\u001b[43m)\u001b[49m\u001b[43m)\u001b[49m\u001b[43m \u001b[49m\u001b[38;5;241;43m^\u001b[39;49m\u001b[43m \u001b[49m\u001b[43m(\u001b[49m\u001b[43mn\u001b[49m\u001b[43m)\u001b[49m)\n\u001b[1;32m      3\u001b[0m     \u001b[38;5;28;01mreturn\u001b[39;00m bond_value\n",
      "\u001b[0;31mTypeError\u001b[0m: unsupported operand type(s) for ^: 'float' and 'int'"
     ]
    }
   ],
   "source": [
    "def PV(r,FV,n):\n",
    "    bond_value= float(FV / (1 + (r/ n)) ^ (n))\n",
    "    return bond_value\n",
    "\n",
    "PV(10,1000,5)"
   ]
  },
  {
   "cell_type": "code",
   "execution_count": 3,
   "id": "a3452727",
   "metadata": {},
   "outputs": [
    {
     "ename": "TypeError",
     "evalue": "unsupported operand type(s) for ^: 'float' and 'int'",
     "output_type": "error",
     "traceback": [
      "\u001b[0;31m---------------------------------------------------------------------------\u001b[0m",
      "\u001b[0;31mTypeError\u001b[0m                                 Traceback (most recent call last)",
      "Input \u001b[0;32mIn [3]\u001b[0m, in \u001b[0;36m<cell line: 5>\u001b[0;34m()\u001b[0m\n\u001b[1;32m      2\u001b[0m     bond_value\u001b[38;5;241m=\u001b[39m \u001b[38;5;28mfloat\u001b[39m(FV \u001b[38;5;241m/\u001b[39m (\u001b[38;5;241m1\u001b[39m \u001b[38;5;241m+\u001b[39m (r\u001b[38;5;241m/\u001b[39m n)) \u001b[38;5;241m^\u001b[39m (n))\n\u001b[1;32m      3\u001b[0m     \u001b[38;5;28mprint\u001b[39m(bond_value)\n\u001b[0;32m----> 5\u001b[0m \u001b[43mPV\u001b[49m\u001b[43m(\u001b[49m\u001b[38;5;241;43m10\u001b[39;49m\u001b[43m,\u001b[49m\u001b[38;5;241;43m1000\u001b[39;49m\u001b[43m,\u001b[49m\u001b[38;5;241;43m5\u001b[39;49m\u001b[43m)\u001b[49m\n",
      "Input \u001b[0;32mIn [3]\u001b[0m, in \u001b[0;36mPV\u001b[0;34m(r, FV, n)\u001b[0m\n\u001b[1;32m      1\u001b[0m \u001b[38;5;28;01mdef\u001b[39;00m \u001b[38;5;21mPV\u001b[39m(r,FV,n):\n\u001b[0;32m----> 2\u001b[0m     bond_value\u001b[38;5;241m=\u001b[39m \u001b[38;5;28mfloat\u001b[39m(\u001b[43mFV\u001b[49m\u001b[43m \u001b[49m\u001b[38;5;241;43m/\u001b[39;49m\u001b[43m \u001b[49m\u001b[43m(\u001b[49m\u001b[38;5;241;43m1\u001b[39;49m\u001b[43m \u001b[49m\u001b[38;5;241;43m+\u001b[39;49m\u001b[43m \u001b[49m\u001b[43m(\u001b[49m\u001b[43mr\u001b[49m\u001b[38;5;241;43m/\u001b[39;49m\u001b[43m \u001b[49m\u001b[43mn\u001b[49m\u001b[43m)\u001b[49m\u001b[43m)\u001b[49m\u001b[43m \u001b[49m\u001b[38;5;241;43m^\u001b[39;49m\u001b[43m \u001b[49m\u001b[43m(\u001b[49m\u001b[43mn\u001b[49m\u001b[43m)\u001b[49m)\n\u001b[1;32m      3\u001b[0m     \u001b[38;5;28mprint\u001b[39m(bond_value)\n",
      "\u001b[0;31mTypeError\u001b[0m: unsupported operand type(s) for ^: 'float' and 'int'"
     ]
    }
   ],
   "source": [
    "def PV(r,FV,n):\n",
    "    bond_value= float(FV / (1 + (r/ n)) ^ (n))\n",
    "    print(bond_value)\n",
    "\n",
    "PV(10,1000,5)"
   ]
  },
  {
   "cell_type": "code",
   "execution_count": 4,
   "id": "c5982b12",
   "metadata": {},
   "outputs": [
    {
     "data": {
      "text/plain": [
       "4.11522633744856"
      ]
     },
     "execution_count": 4,
     "metadata": {},
     "output_type": "execute_result"
    }
   ],
   "source": [
    "def PV(r,FV,n):\n",
    "    bond_value= FV / (1 + (r/ n)) **(n)\n",
    "    return bond_value\n",
    "\n",
    "PV(10,1000,5)"
   ]
  },
  {
   "cell_type": "code",
   "execution_count": 5,
   "id": "d047ddbb",
   "metadata": {},
   "outputs": [
    {
     "ename": "SyntaxError",
     "evalue": "invalid syntax (3717220710.py, line 3)",
     "output_type": "error",
     "traceback": [
      "\u001b[0;36m  Input \u001b[0;32mIn [5]\u001b[0;36m\u001b[0m\n\u001b[0;31m    return bond_value\u001b[0m\n\u001b[0m    ^\u001b[0m\n\u001b[0;31mSyntaxError\u001b[0m\u001b[0;31m:\u001b[0m invalid syntax\n"
     ]
    }
   ],
   "source": [
    "def PV(r,FV,n):\n",
    "    bond_value= FV * (1 / ((1+r)**n)\n",
    "    return bond_value\n",
    "\n",
    "PV(10,1000,5) "
   ]
  },
  {
   "cell_type": "code",
   "execution_count": 7,
   "id": "8fde7548",
   "metadata": {},
   "outputs": [
    {
     "ename": "SyntaxError",
     "evalue": "invalid syntax (3669338342.py, line 3)",
     "output_type": "error",
     "traceback": [
      "\u001b[0;36m  Input \u001b[0;32mIn [7]\u001b[0;36m\u001b[0m\n\u001b[0;31m    print( bond_value)\u001b[0m\n\u001b[0m    ^\u001b[0m\n\u001b[0;31mSyntaxError\u001b[0m\u001b[0;31m:\u001b[0m invalid syntax\n"
     ]
    }
   ],
   "source": [
    "def PV(r,FV,n):\n",
    "    bond_value= FV * (1 / ((1+r)**n)\n",
    "    print( bond_value)\n",
    "\n",
    "PV(10,1000,5) "
   ]
  },
  {
   "cell_type": "code",
   "execution_count": 8,
   "id": "d43d2624",
   "metadata": {},
   "outputs": [
    {
     "ename": "NameError",
     "evalue": "name 'flaot' is not defined",
     "output_type": "error",
     "traceback": [
      "\u001b[0;31m---------------------------------------------------------------------------\u001b[0m",
      "\u001b[0;31mNameError\u001b[0m                                 Traceback (most recent call last)",
      "Input \u001b[0;32mIn [8]\u001b[0m, in \u001b[0;36m<cell line: 5>\u001b[0;34m()\u001b[0m\n\u001b[1;32m      2\u001b[0m     bond_value\u001b[38;5;241m=\u001b[39m flaot(FV \u001b[38;5;241m*\u001b[39m (\u001b[38;5;241m1\u001b[39m \u001b[38;5;241m/\u001b[39m ((\u001b[38;5;241m1\u001b[39m\u001b[38;5;241m+\u001b[39mr)\u001b[38;5;241m*\u001b[39m\u001b[38;5;241m*\u001b[39mn)))\n\u001b[1;32m      3\u001b[0m     \u001b[38;5;28mprint\u001b[39m( bond_value)\n\u001b[0;32m----> 5\u001b[0m \u001b[43mPV\u001b[49m\u001b[43m(\u001b[49m\u001b[38;5;241;43m10\u001b[39;49m\u001b[43m,\u001b[49m\u001b[38;5;241;43m1000\u001b[39;49m\u001b[43m,\u001b[49m\u001b[38;5;241;43m5\u001b[39;49m\u001b[43m)\u001b[49m\n",
      "Input \u001b[0;32mIn [8]\u001b[0m, in \u001b[0;36mPV\u001b[0;34m(r, FV, n)\u001b[0m\n\u001b[1;32m      1\u001b[0m \u001b[38;5;28;01mdef\u001b[39;00m \u001b[38;5;21mPV\u001b[39m(r,FV,n):\n\u001b[0;32m----> 2\u001b[0m     bond_value\u001b[38;5;241m=\u001b[39m \u001b[43mflaot\u001b[49m(FV \u001b[38;5;241m*\u001b[39m (\u001b[38;5;241m1\u001b[39m \u001b[38;5;241m/\u001b[39m ((\u001b[38;5;241m1\u001b[39m\u001b[38;5;241m+\u001b[39mr)\u001b[38;5;241m*\u001b[39m\u001b[38;5;241m*\u001b[39mn)))\n\u001b[1;32m      3\u001b[0m     \u001b[38;5;28mprint\u001b[39m( bond_value)\n",
      "\u001b[0;31mNameError\u001b[0m: name 'flaot' is not defined"
     ]
    }
   ],
   "source": [
    "def PV(r,FV,n):\n",
    "    bond_value= flaot(FV * (1 / ((1+r)**n)))\n",
    "    print( bond_value)\n",
    "\n",
    "PV(10,1000,5) "
   ]
  },
  {
   "cell_type": "code",
   "execution_count": 11,
   "id": "3698ee9d",
   "metadata": {},
   "outputs": [
    {
     "name": "stdout",
     "output_type": "stream",
     "text": [
      "620.92\n"
     ]
    }
   ],
   "source": [
    "def PV(r,FV,n):\n",
    "    bond_value= round(float(FV * (1 / ((1+r)**n))),2)\n",
    "    print( bond_value)\n",
    "\n",
    "PV(0.1,1000,5) "
   ]
  },
  {
   "cell_type": "code",
   "execution_count": null,
   "id": "23293fb3",
   "metadata": {},
   "outputs": [],
   "source": []
  }
 ],
 "metadata": {
  "kernelspec": {
   "display_name": "Python 3 (ipykernel)",
   "language": "python",
   "name": "python3"
  },
  "language_info": {
   "codemirror_mode": {
    "name": "ipython",
    "version": 3
   },
   "file_extension": ".py",
   "mimetype": "text/x-python",
   "name": "python",
   "nbconvert_exporter": "python",
   "pygments_lexer": "ipython3",
   "version": "3.9.12"
  }
 },
 "nbformat": 4,
 "nbformat_minor": 5
}
