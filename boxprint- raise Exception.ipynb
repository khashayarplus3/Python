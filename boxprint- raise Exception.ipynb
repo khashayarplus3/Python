{
 "cells": [
  {
   "cell_type": "code",
   "execution_count": 2,
   "id": "72b020e2-a240-4f9f-8b80-afe381630de6",
   "metadata": {},
   "outputs": [
    {
     "name": "stdout",
     "output_type": "stream",
     "text": [
      "****\n",
      "*  *\n",
      "****\n",
      "*  *\n",
      "****\n",
      "OOOOOOOOOOOOOOOOOOOO\n",
      "O                  O\n",
      "OOOOOOOOOOOOOOOOOOOO\n",
      "O                  O\n",
      "OOOOOOOOOOOOOOOOOOOO\n",
      "O                  O\n",
      "OOOOOOOOOOOOOOOOOOOO\n",
      "An exception happened: Width must be greater than 2.\n",
      "An exception happened: Witdth must be greater than 2.\n"
     ]
    }
   ],
   "source": [
    "def boxPrint(symbol, width, height):\n",
    "    if len(symbol) != 1:\n",
    "        raise Exception('Witdth must be greater than 2.')\n",
    "    if width <= 2: \n",
    "        raise Exception('Width must be greater than 2.')\n",
    "    if height <= 2: \n",
    "        raise Exception('Height must be greater than 2.')\n",
    "    print(symbol* width)\n",
    "    for i in range(height -2):\n",
    "        print(symbol + (' ' *(width -2)) + symbol)\n",
    "        print(symbol * width)\n",
    "    \n",
    "for sym, w, h in (('*', 4, 4), ('O', 20, 5), ('x', 1, 3), ('ZZ', 3, 3)):\n",
    "    try:\n",
    "            boxPrint(sym, w, h)\n",
    "    except Exception as err:\n",
    "            print('An exception happened: ' + str(err))\n",
    "\n"
   ]
  },
  {
   "cell_type": "code",
   "execution_count": null,
   "id": "fc4baeba-36ba-4c2a-b62d-bcc3fbc0e056",
   "metadata": {},
   "outputs": [],
   "source": [
    "boxPrint('*', 4, 4)"
   ]
  },
  {
   "cell_type": "code",
   "execution_count": 13,
   "id": "c1fc97c6-abfe-40eb-a853-41ad64064bbe",
   "metadata": {},
   "outputs": [
    {
     "ename": "NameError",
     "evalue": "name 'stoplight' is not defined",
     "output_type": "error",
     "traceback": [
      "\u001b[0;31m---------------------------------------------------------------------------\u001b[0m",
      "\u001b[0;31mNameError\u001b[0m                                 Traceback (most recent call last)",
      "Input \u001b[0;32mIn [13]\u001b[0m, in \u001b[0;36m<cell line: 13>\u001b[0;34m()\u001b[0m\n\u001b[1;32m     11\u001b[0m         \u001b[38;5;28;01melif\u001b[39;00m stoplight[key] \u001b[38;5;241m==\u001b[39m \u001b[38;5;124m'\u001b[39m\u001b[38;5;124mred\u001b[39m\u001b[38;5;124m'\u001b[39m:\n\u001b[1;32m     12\u001b[0m             stoplight[key]\u001b[38;5;241m=\u001b[39m \u001b[38;5;124m'\u001b[39m\u001b[38;5;124mgreen\u001b[39m\u001b[38;5;124m'\u001b[39m\n\u001b[0;32m---> 13\u001b[0m \u001b[38;5;28;01massert\u001b[39;00m \u001b[38;5;124m'\u001b[39m\u001b[38;5;124mred\u001b[39m\u001b[38;5;124m'\u001b[39m \u001b[38;5;129;01min\u001b[39;00m \u001b[43mstoplight\u001b[49m\u001b[38;5;241m.\u001b[39mvalues(), \u001b[38;5;124m'\u001b[39m\u001b[38;5;124mneither light is red, stop light\u001b[39m\u001b[38;5;124m'\u001b[39m \u001b[38;5;241m+\u001b[39m {\u001b[38;5;124m'\u001b[39m\u001b[38;5;124mns\u001b[39m\u001b[38;5;124m'\u001b[39m: \u001b[38;5;124m'\u001b[39m\u001b[38;5;124myellow\u001b[39m\u001b[38;5;124m'\u001b[39m, ew:\u001b[38;5;124m'\u001b[39m\u001b[38;5;124mgreen\u001b[39m\u001b[38;5;124m'\u001b[39m}\n\u001b[1;32m     15\u001b[0m switchlights(market_2nd)\n",
      "\u001b[0;31mNameError\u001b[0m: name 'stoplight' is not defined"
     ]
    }
   ],
   "source": [
    "#traffic light simulation\n",
    "market_2nd= {'ns': 'green' , 'ew': 'red'}\n",
    "mission_16= {'ns':'red', 'ew': 'green'}\n",
    "#we gotta get yellow\n",
    "def switchlights(stoplight):\n",
    "    for key in stoplight.keys():\n",
    "        if stoplight[key] =='green':\n",
    "            stoplight[key]= 'yellow'\n",
    "        elif stoplight[key]== 'yellow':\n",
    "            stoplight[key]== 'red'\n",
    "        elif stoplight[key] == 'red':\n",
    "            stoplight[key]= 'green'\n",
    "assert 'red' in stoplight.values(), 'neither light is red, stop light' + {'ns': 'yellow', ew:'green'}\n",
    "    \n",
    "switchlights(market_2nd)\n"
   ]
  },
  {
   "cell_type": "code",
   "execution_count": null,
   "id": "8d7ac687-9fb3-4528-8e3f-1bf88973cecf",
   "metadata": {},
   "outputs": [],
   "source": [
    "import logging\n",
    "logging.basicConfig(level=logging,DEBUG, format=' %(asctime)s - %(levelname)s -lgging.debug('startof program"
   ]
  },
  {
   "cell_type": "code",
   "execution_count": null,
   "id": "8b7c3fa2-479f-4c0d-9d9f-567aa766f6a2",
   "metadata": {},
   "outputs": [],
   "source": []
  }
 ],
 "metadata": {
  "kernelspec": {
   "display_name": "Python 3 (ipykernel)",
   "language": "python",
   "name": "python3"
  },
  "language_info": {
   "codemirror_mode": {
    "name": "ipython",
    "version": 3
   },
   "file_extension": ".py",
   "mimetype": "text/x-python",
   "name": "python",
   "nbconvert_exporter": "python",
   "pygments_lexer": "ipython3",
   "version": "3.9.12"
  }
 },
 "nbformat": 4,
 "nbformat_minor": 5
}
