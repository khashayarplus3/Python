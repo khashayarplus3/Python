{
 "cells": [
  {
   "cell_type": "code",
   "execution_count": null,
   "id": "ccd15754",
   "metadata": {},
   "outputs": [],
   "source": [
    "# # More Practice with Variables and Logic Check\n",
    "\n",
    "# You will be getting more practice declaring and manipulating variables, and checking logic in this exercise.\n",
    "\n",
    "# ## Instructions\n",
    "\n",
    "# Perform the following:\n",
    "\n",
    "# 1. Declare a variable of `name` with an input and a string of \"Welcome to the Boba Shop! What is your name?\"\n",
    "name= input('Welcome to the Boba Shop! What is your name?')\n",
    "\n",
    "# 2. Check if `name` is not an empty string or equal to `None`.\n",
    "if name == None or len(name) != 0:\n",
    "    print(\"Hello\", name)\n",
    "    if name == None: \n",
    "        print('Empty mommy')\n",
    "\n",
    "#     * If so, write a print statement with a string of \"Hello\" concatenated with the variable `name`.\n",
    "\n",
    "#     * Declare a variable of `beverage` with an input and a string of \"What kind of boba drink would you like?\"\n",
    "beverage= input(\"What kind of boba drink would you like?\")\n",
    "#     * Declare a variable of `sweetness_level` with an input and a string of \"How sweet do you want your drink: 0, 50, 100, or 200?\"\n",
    "Sweetnesslvl= int(input(\"How sweet do you want your drink: 0, 50, 100, or 200?\"))\n",
    "\n",
    "#         * If `sweetness_level` equals 50, declare a variable `sweetness` as \"half sweetened\".\n",
    "if Sweetnesslvl == 50: sweetness= \"half sweetened\"\n",
    "#         * Else if `sweetness_level` equals 100, declare a variable `sweetness` as \"normal sweet\".\n",
    "elif Sweetnesslvl == 100:\n",
    "    sweetness = 'normal sweet'\n",
    "#        * Else if `sweetness_level` equals 200, declare a variable `sweetness` as \"super sweet\".\n",
    "elif Sweetnesslvl == 200: sweetness= ' super sweet'\n",
    "\n",
    "# 3. Else, print the string of \"You didn't give us your name! Goodbye\".\n",
    "elif name == None or len(name) == 0: print(\"You didn't give us your name! Goodbye\")\n",
    "    \n",
    "#         * Else, declare a variable `sweetness` with a string of \"non-sweet\".\n",
    "else: sweetness= 'non sweet'\n",
    "#     * Print the string of \"Your order of \" concatenated with the variable `beverage`, concatenated with \" boba with a sweet level of \", concatenated with the variable `sweetness`.\n",
    "print(name, \"Your order of \", beverage, \" boba with a sweet level of \", sweetness, \"is coming right up\")\n",
    "\n",
    "                        \n",
    "\n",
    "# **HINT:** Remember to cast your numerical values as `int()`\n",
    "\n",
    "# ---\n",
    "\n",
    "# © 2020 Trilogy Education Services, a 2U, Inc. brand. All Rights Reserved.\n"
   ]
  },
  {
   "cell_type": "code",
   "execution_count": null,
   "id": "c736c3b1",
   "metadata": {},
   "outputs": [],
   "source": []
  },
  {
   "cell_type": "code",
   "execution_count": null,
   "id": "8b4d656e",
   "metadata": {},
   "outputs": [],
   "source": []
  },
  {
   "cell_type": "code",
   "execution_count": null,
   "id": "d0bd5cd0",
   "metadata": {},
   "outputs": [],
   "source": []
  },
  {
   "cell_type": "code",
   "execution_count": null,
   "id": "dea05704",
   "metadata": {},
   "outputs": [],
   "source": []
  }
 ],
 "metadata": {
  "kernelspec": {
   "display_name": "Python 3 (ipykernel)",
   "language": "python",
   "name": "python3"
  },
  "language_info": {
   "codemirror_mode": {
    "name": "ipython",
    "version": 3
   },
   "file_extension": ".py",
   "mimetype": "text/x-python",
   "name": "python",
   "nbconvert_exporter": "python",
   "pygments_lexer": "ipython3",
   "version": "3.9.12"
  }
 },
 "nbformat": 4,
 "nbformat_minor": 5
}
