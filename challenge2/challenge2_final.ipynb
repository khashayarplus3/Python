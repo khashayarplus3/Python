{
 "cells": [
  {
   "cell_type": "code",
   "execution_count": null,
   "id": "20a14218",
   "metadata": {},
   "outputs": [],
   "source": []
  },
  {
   "cell_type": "code",
   "execution_count": 4,
   "id": "1f3e53f6",
   "metadata": {},
   "outputs": [
    {
     "data": {
      "text/plain": [
       "'/Users/khashayarzare'"
      ]
     },
     "execution_count": 4,
     "metadata": {},
     "output_type": "execute_result"
    }
   ],
   "source": [
    "os.getcwd()\n"
   ]
  },
  {
   "cell_type": "code",
   "execution_count": 2,
   "id": "7192208f",
   "metadata": {},
   "outputs": [
    {
     "name": "stdout",
     "output_type": "stream",
     "text": [
      "1170593\n",
      "446309.0465116279\n",
      "<class 'pandas.core.frame.DataFrame'>\n",
      "RangeIndex: 86 entries, 0 to 85\n",
      "Data columns (total 2 columns):\n",
      " #   Column         Non-Null Count  Dtype \n",
      "---  ------         --------------  ----- \n",
      " 0   d              86 non-null     object\n",
      " 1   Profit/Losses  86 non-null     int64 \n",
      "dtypes: int64(1), object(1)\n",
      "memory usage: 1.5+ KB\n"
     ]
    }
   ],
   "source": [
    "import pandas as pd\n",
    "import csv\n",
    "import os\n",
    "import numpy as np\n",
    " \n",
    "os.getcwd()\n",
    "os.chdir('/Users/khashayarzare/Desktop/bootcamp/challenge2/PyBank/Resources')\n",
    "with open('budget_data.csv', 'rb') as b:\n",
    "\n",
    "    bud_reader= pd.read_csv(b)\n",
    "\n",
    "    bud_reader.head()\n",
    "\n",
    "    bud_reader.tail()\n",
    "\n",
    "    bud_reader.describe()\n",
    "\n",
    "    date= bud_reader['d']\n",
    "\n",
    "    profit=bud_reader['Profit/Losses']\n",
    "\n",
    "    print(np.max(profit))\n",
    "\n",
    "    print(np.average(profit))\n",
    "\n",
    "\n",
    "#1170593\n",
    "#446309.0465116279\n",
    "\n",
    "    avg_month= np.average(profit)\n",
    "\n",
    "    total_π= avg_month* 86\n",
    "\n",
    "    bud_reader.info()\n"
   ]
  },
  {
   "cell_type": "code",
   "execution_count": 3,
   "id": "da8550cc",
   "metadata": {},
   "outputs": [
    {
     "name": "stdout",
     "output_type": "stream",
     "text": [
      "1170593\n"
     ]
    }
   ],
   "source": [
    "print(np.max(profit))"
   ]
  },
  {
   "cell_type": "code",
   "execution_count": 4,
   "id": "7e0fe31f",
   "metadata": {},
   "outputs": [
    {
     "name": "stdout",
     "output_type": "stream",
     "text": [
      "446309.0465116279\n"
     ]
    }
   ],
   "source": [
    " print(np.average(profit))"
   ]
  },
  {
   "cell_type": "code",
   "execution_count": 5,
   "id": "5f4ab2d6",
   "metadata": {},
   "outputs": [
    {
     "name": "stdout",
     "output_type": "stream",
     "text": [
      "<class 'pandas.core.frame.DataFrame'>\n",
      "RangeIndex: 86 entries, 0 to 85\n",
      "Data columns (total 2 columns):\n",
      " #   Column         Non-Null Count  Dtype \n",
      "---  ------         --------------  ----- \n",
      " 0   d              86 non-null     object\n",
      " 1   Profit/Losses  86 non-null     int64 \n",
      "dtypes: int64(1), object(1)\n",
      "memory usage: 1.5+ KB\n"
     ]
    }
   ],
   "source": [
    "bud_reader.info()"
   ]
  },
  {
   "cell_type": "code",
   "execution_count": 6,
   "id": "20cb2a11",
   "metadata": {},
   "outputs": [
    {
     "name": "stdout",
     "output_type": "stream",
     "text": [
      "Financial Analysis\n",
      "-----------------------\n",
      "total months:  86\n"
     ]
    }
   ],
   "source": [
    "months= len(date)\n",
    "print('Financial Analysis')\n",
    "print('-----------------------')\n",
    "print( f'total months:  {months}')"
   ]
  },
  {
   "cell_type": "code",
   "execution_count": 7,
   "id": "7c0b350c",
   "metadata": {},
   "outputs": [
    {
     "name": "stdout",
     "output_type": "stream",
     "text": [
      "Total profits:  38382578\n"
     ]
    }
   ],
   "source": [
    "rows=[]\n",
    "for row in bud_reader['Profit/Losses']:\n",
    "    rows.append(row)\n",
    "\n",
    "profit_totes= sum(rows)\n",
    "print(f'Total profits: ', profit_totes)"
   ]
  },
  {
   "cell_type": "code",
   "execution_count": 8,
   "id": "516640c0",
   "metadata": {},
   "outputs": [
    {
     "name": "stdout",
     "output_type": "stream",
     "text": [
      "446309.0465116279\n"
     ]
    }
   ],
   "source": [
    "print(avg_month)"
   ]
  },
  {
   "cell_type": "code",
   "execution_count": 9,
   "id": "7a04e78b",
   "metadata": {},
   "outputs": [
    {
     "data": {
      "text/html": [
       "<div>\n",
       "<style scoped>\n",
       "    .dataframe tbody tr th:only-of-type {\n",
       "        vertical-align: middle;\n",
       "    }\n",
       "\n",
       "    .dataframe tbody tr th {\n",
       "        vertical-align: top;\n",
       "    }\n",
       "\n",
       "    .dataframe thead th {\n",
       "        text-align: right;\n",
       "    }\n",
       "</style>\n",
       "<table border=\"1\" class=\"dataframe\">\n",
       "  <thead>\n",
       "    <tr style=\"text-align: right;\">\n",
       "      <th></th>\n",
       "      <th>d</th>\n",
       "      <th>Profit/Losses</th>\n",
       "    </tr>\n",
       "  </thead>\n",
       "  <tbody>\n",
       "    <tr>\n",
       "      <th>0</th>\n",
       "      <td>10-Jan</td>\n",
       "      <td>867884</td>\n",
       "    </tr>\n",
       "    <tr>\n",
       "      <th>1</th>\n",
       "      <td>10-Feb</td>\n",
       "      <td>984655</td>\n",
       "    </tr>\n",
       "    <tr>\n",
       "      <th>2</th>\n",
       "      <td>10-Mar</td>\n",
       "      <td>322013</td>\n",
       "    </tr>\n",
       "    <tr>\n",
       "      <th>3</th>\n",
       "      <td>10-Apr</td>\n",
       "      <td>-69417</td>\n",
       "    </tr>\n",
       "    <tr>\n",
       "      <th>4</th>\n",
       "      <td>10-May</td>\n",
       "      <td>310503</td>\n",
       "    </tr>\n",
       "    <tr>\n",
       "      <th>5</th>\n",
       "      <td>10-Jun</td>\n",
       "      <td>522857</td>\n",
       "    </tr>\n",
       "    <tr>\n",
       "      <th>6</th>\n",
       "      <td>10-Jul</td>\n",
       "      <td>1033096</td>\n",
       "    </tr>\n",
       "    <tr>\n",
       "      <th>7</th>\n",
       "      <td>10-Aug</td>\n",
       "      <td>604885</td>\n",
       "    </tr>\n",
       "    <tr>\n",
       "      <th>8</th>\n",
       "      <td>10-Sep</td>\n",
       "      <td>-216386</td>\n",
       "    </tr>\n",
       "    <tr>\n",
       "      <th>9</th>\n",
       "      <td>10-Oct</td>\n",
       "      <td>477532</td>\n",
       "    </tr>\n",
       "  </tbody>\n",
       "</table>\n",
       "</div>"
      ],
      "text/plain": [
       "        d  Profit/Losses\n",
       "0  10-Jan         867884\n",
       "1  10-Feb         984655\n",
       "2  10-Mar         322013\n",
       "3  10-Apr         -69417\n",
       "4  10-May         310503\n",
       "5  10-Jun         522857\n",
       "6  10-Jul        1033096\n",
       "7  10-Aug         604885\n",
       "8  10-Sep        -216386\n",
       "9  10-Oct         477532"
      ]
     },
     "execution_count": 9,
     "metadata": {},
     "output_type": "execute_result"
    }
   ],
   "source": [
    "bud_reader.head(10)"
   ]
  },
  {
   "cell_type": "code",
   "execution_count": 10,
   "id": "521ad92f",
   "metadata": {},
   "outputs": [
    {
     "data": {
      "text/plain": [
       "' text\\n  Financial Analysis\\n  ----------------------------\\n  Total Months: 86\\n  Total: $38382578\\n  Average  Change: $-2315.12\\n  Greatest Increase in Profits: Feb-2012 ($1926159)\\n  Greatest Decrease in Profits: Sep-2013 ($-2196167)\\n  ```'"
      ]
     },
     "execution_count": 10,
     "metadata": {},
     "output_type": "execute_result"
    }
   ],
   "source": [
    "\"\"\" text\n",
    "  Financial Analysis\n",
    "  ----------------------------\n",
    "  Total Months: 86\n",
    "  Total: $38382578\n",
    "  Average  Change: $-2315.12\n",
    "  Greatest Increase in Profits: Feb-2012 ($1926159)\n",
    "  Greatest Decrease in Profits: Sep-2013 ($-2196167)\n",
    "  ```\"\"\""
   ]
  },
  {
   "cell_type": "code",
   "execution_count": 11,
   "id": "568ed1f5",
   "metadata": {},
   "outputs": [
    {
     "data": {
      "text/plain": [
       "'\\n    The total number of months included in the dataset.\\n\\n    * The net total amount of Profit/Losses over the entire period.\\n\\n    * The average of the changes in Profit/Losses over the entire period.\\n\\n    * The greatest increase in profits (date and amount) over the entire period.\\n\\n    * The greatest decrease in losses (date and amount) over the entire period.\\n\\n    Your resulting analysis should look similar to the following:\\n'"
      ]
     },
     "execution_count": 11,
     "metadata": {},
     "output_type": "execute_result"
    }
   ],
   "source": [
    "\"\"\"\n",
    "    The total number of months included in the dataset.\n",
    "\n",
    "    * The net total amount of Profit/Losses over the entire period.\n",
    "\n",
    "    * The average of the changes in Profit/Losses over the entire period.\n",
    "\n",
    "    * The greatest increase in profits (date and amount) over the entire period.\n",
    "\n",
    "    * The greatest decrease in losses (date and amount) over the entire period.\n",
    "\n",
    "    Your resulting analysis should look similar to the following:\n",
    "\"\"\""
   ]
  },
  {
   "cell_type": "code",
   "execution_count": null,
   "id": "4ed6a1bf",
   "metadata": {},
   "outputs": [],
   "source": []
  },
  {
   "cell_type": "code",
   "execution_count": 12,
   "id": "799b3c3b",
   "metadata": {},
   "outputs": [
    {
     "name": "stdout",
     "output_type": "stream",
     "text": [
      "[867884, 984655, 322013, -69417, 310503, 522857, 1033096, 604885, -216386, 477532, 893810, -80353, 779806, -335203, 697845, 793163, 485070, 584122, 62729, 668179, 899906, 834719, 132003, 309978, -755566, 1170593, 252788, 1151518, 817256, 570757, 506702, -1022534, 475062, 779976, 144175, 542494, 359333, 321469, 67780, 471435, 565603, 872480, 789480, 999942, -1196225, 268997, -687986, 1150461, 682458, 617856, 824098, 581943, 132864, 448062, 689161, 800701, 1166643, 947333, 578668, 988505, 1139715, 1029471, 687533, -524626, 158620, 87795, 423389, 840723, 568529, 332067, 989499, 778237, 650000, -1100387, -174946, 757143, 445709, 712961, -1163797, 569899, 768450, 102685, 795914, 60988, 138230, 671099]\n",
      "86\n"
     ]
    }
   ],
   "source": [
    "rows=[]\n",
    "for row in bud_reader['Profit/Losses']:\n",
    "    rows.append(row)\n",
    "print(rows)\n",
    "print(len(rows))"
   ]
  },
  {
   "cell_type": "code",
   "execution_count": 13,
   "id": "4a97fc66",
   "metadata": {},
   "outputs": [],
   "source": [
    "diff=[]\n",
    "for r in range((len(rows))-1): \n",
    "    dif= rows[(r+1)]- rows[(r)]\n",
    "    diff.append(dif)"
   ]
  },
  {
   "cell_type": "code",
   "execution_count": 14,
   "id": "adcd4da5",
   "metadata": {},
   "outputs": [],
   "source": [
    "best_months= (max(diff))\n",
    "worst_months= (min(diff))"
   ]
  },
  {
   "cell_type": "code",
   "execution_count": 15,
   "id": "c8df5d05",
   "metadata": {},
   "outputs": [
    {
     "name": "stdout",
     "output_type": "stream",
     "text": [
      "24\n",
      "43\n"
     ]
    }
   ],
   "source": [
    "\n",
    "for i in diff:\n",
    "    if i == 1926159:\n",
    "        index= diff.index(i)\n",
    "        print(index)\n",
    "    elif i== -2196167:\n",
    "        index= diff.index(i)\n",
    "        print(index)\n",
    "    else:pass"
   ]
  },
  {
   "cell_type": "code",
   "execution_count": 16,
   "id": "201dfa4e",
   "metadata": {},
   "outputs": [
    {
     "name": "stdout",
     "output_type": "stream",
     "text": [
      "Greatest increase in Profits: 12-Feb ($ 1926159 )\n",
      "Greatest Decrease in Profits: 13-Sep ($ -2196167 )\n"
     ]
    }
   ],
   "source": [
    "inc_date= bud_reader['d'][25]\n",
    "dec_date= bud_reader['d'][44]\n",
    "\n",
    "print('Greatest increase in Profits:', inc_date, '($',best_months,')')\n",
    "print('Greatest Decrease in Profits:', dec_date, '($',worst_months,')')"
   ]
  },
  {
   "cell_type": "code",
   "execution_count": 17,
   "id": "184406a3",
   "metadata": {},
   "outputs": [],
   "source": [
    "average_difference= np.average(diff)"
   ]
  },
  {
   "cell_type": "code",
   "execution_count": 18,
   "id": "8dd41782",
   "metadata": {},
   "outputs": [
    {
     "name": "stdout",
     "output_type": "stream",
     "text": [
      "Financial Analysis\n",
      "-----------------------\n",
      "total number of months included in this dataset is:  86\n",
      "Total profit is: 38382578\n",
      "The average change in Profit/Losses -2315.12\n",
      "Greatest increase in Profits: 12-Feb ($ 1926159 )\n",
      "Greatest Decrease in Profits: 13-Sep ($ -2196167 )\n"
     ]
    }
   ],
   "source": [
    "change_average=round(np.average(diff), 2)\n",
    "\n",
    "\n",
    "total_months=  f'total number of months included in this dataset is:  {months}'\n",
    "net_total= np.sum(profit)\n",
    "\n",
    "print('Financial Analysis')\n",
    "print('-----------------------')\n",
    "print(total_months)\n",
    "print(f'Total profit is: {net_total}')\n",
    "print('The average change in Profit/Losses', change_average)\n",
    "print('Greatest increase in Profits:', inc_date, '($',best_months,')')\n",
    "print('Greatest Decrease in Profits:', dec_date, '($',worst_months,')')"
   ]
  },
  {
   "cell_type": "code",
   "execution_count": 19,
   "id": "54f46ebf",
   "metadata": {},
   "outputs": [
    {
     "data": {
      "text/plain": [
       "'/Users/khashayarzare/Desktop/bootcamp/challenge2/PyBank/Resources'"
      ]
     },
     "execution_count": 19,
     "metadata": {},
     "output_type": "execute_result"
    }
   ],
   "source": [
    "pwd"
   ]
  },
  {
   "cell_type": "code",
   "execution_count": 20,
   "id": "cf9e8477",
   "metadata": {},
   "outputs": [
    {
     "name": "stdout",
     "output_type": "stream",
     "text": [
      "/Users/khashayarzare/Desktop/bootcamp/challenge2\n"
     ]
    }
   ],
   "source": [
    "cd '/Users/khashayarzare/Desktop/bootcamp/challenge2'"
   ]
  },
  {
   "cell_type": "code",
   "execution_count": null,
   "id": "6b292c1e",
   "metadata": {},
   "outputs": [],
   "source": []
  },
  {
   "cell_type": "code",
   "execution_count": 21,
   "id": "d1f8d48c",
   "metadata": {},
   "outputs": [
    {
     "data": {
      "text/plain": [
       "'/Users/khashayarzare/Desktop/bootcamp/challenge2'"
      ]
     },
     "execution_count": 21,
     "metadata": {},
     "output_type": "execute_result"
    }
   ],
   "source": [
    "pwd"
   ]
  },
  {
   "cell_type": "code",
   "execution_count": 24,
   "id": "a41b7ac4",
   "metadata": {},
   "outputs": [],
   "source": [
    "with open('challenge_two_output.txt', 'w')as f:\n",
    "    f.write(\"'Financial Analysis'\")\n",
    "    f.write('\\n')\n",
    "    f.write('-----------------------')\n",
    "    f.write('\\n')\n",
    "    f.write(total_months)\n",
    "    f.write('\\n')\n",
    "    f.write(f'Total profit is: {net_total}')\n",
    "    f.write('\\n')    \n",
    "    f.write(f'The average change in Profit/Losses, {change_average}')\n",
    "    f.write('\\n')    \n",
    "    f.write(f'Greatest increase in Profits: {inc_date} , ${best_months}')\n",
    "    f.write('\\n')    \n",
    "    f.write(f'Greatest Decrease in Profits: {dec_date} , ${worst_months}')    "
   ]
  },
  {
   "cell_type": "code",
   "execution_count": null,
   "id": "6a726cad",
   "metadata": {},
   "outputs": [],
   "source": []
  },
  {
   "cell_type": "code",
   "execution_count": 23,
   "id": "cac89330",
   "metadata": {},
   "outputs": [
    {
     "name": "stdout",
     "output_type": "stream",
     "text": [
      "it exists\n"
     ]
    }
   ],
   "source": [
    "if os.path.exists('/Users/khashayarzare/Desktop/bootcamp/challenge2/challenge_two_output.txt'): print('it exists')"
   ]
  },
  {
   "cell_type": "code",
   "execution_count": null,
   "id": "213c763a",
   "metadata": {},
   "outputs": [],
   "source": [
    "\n"
   ]
  },
  {
   "cell_type": "code",
   "execution_count": null,
   "id": "0a95f09b",
   "metadata": {},
   "outputs": [],
   "source": []
  },
  {
   "cell_type": "code",
   "execution_count": null,
   "id": "5f07de21",
   "metadata": {},
   "outputs": [],
   "source": []
  },
  {
   "cell_type": "code",
   "execution_count": null,
   "id": "c2f937d4",
   "metadata": {},
   "outputs": [],
   "source": []
  }
 ],
 "metadata": {
  "kernelspec": {
   "display_name": "Python 3 (ipykernel)",
   "language": "python",
   "name": "python3"
  },
  "language_info": {
   "codemirror_mode": {
    "name": "ipython",
    "version": 3
   },
   "file_extension": ".py",
   "mimetype": "text/x-python",
   "name": "python",
   "nbconvert_exporter": "python",
   "pygments_lexer": "ipython3",
   "version": "3.9.12"
  }
 },
 "nbformat": 4,
 "nbformat_minor": 5
}
